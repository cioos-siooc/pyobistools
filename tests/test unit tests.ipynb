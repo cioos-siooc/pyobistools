{
 "cells": [
  {
   "cell_type": "code",
   "execution_count": 1,
   "metadata": {},
   "outputs": [],
   "source": [
    "import pandas as pd\n",
    "import numpy as np\n",
    "from ckanapi import RemoteCKAN\n",
    "NaN = np.nan\n",
    "from pyobistools.validation.check_fields import check_fields\n",
    "import test_check_fields\n",
    "import plotly.graph_objects as go\n",
    "import requests\n",
    "pd.set_option('max_colwidth', None)\n",
    "\n",
    "import numpy as np\n",
    "import pandas as pd\n",
    "\n",
    "from pyobistools.validation.check_fields import check_fields\n",
    "\n"
   ]
  },
  {
   "cell_type": "code",
   "execution_count": 2,
   "metadata": {},
   "outputs": [],
   "source": [
    "test_check_fields.test_check_fields_default()\n",
    "test_check_fields.test_check_fields_event_core()\n",
    "test_check_fields.test_check_fields_occurrence_extension()\n",
    "test_check_fields.test_check_fields_extended_measurement_or_fact_extension()"
   ]
  },
  {
   "cell_type": "code",
   "execution_count": 12,
   "metadata": {},
   "outputs": [],
   "source": [
    "field_data = pd.DataFrame({\n",
    "    'eventID': [\"1\", \"1\", \"1\"],\n",
    "    'occurrenceID': [\"1\", \"1\", \"2\"],\n",
    "    'measurementID': [\"1\", \"2\", \"3\"],\n",
    "    'measurementType': [\"temperature\", \"tail length\", \"temperature\"],\n",
    "    'measurementValue': [12, 12.7, 15.873],\n",
    "    'measurementUnit': [\"C\", \"cm\", \"C\"],\n",
    "    'measurementremarks': [\"\", NaN, \"not calibrated\"]\n",
    "})\n",
    "# required terms\n",
    "error = check_fields(field_data, analysis_type=\"extended_measurement_or_fact_extension\")\n",
    "assert len(error.index) == 9\n",
    "\n",
    "# recommended terms\n",
    "error = check_fields(field_data, analysis_type=\"extended_measurement_or_fact_extension\", level=\"warning\")\n",
    "assert len(error.index) == 1"
   ]
  },
  {
   "cell_type": "code",
   "execution_count": 10,
   "metadata": {},
   "outputs": [
    {
     "data": {
      "text/html": [
       "<div>\n",
       "<style scoped>\n",
       "    .dataframe tbody tr th:only-of-type {\n",
       "        vertical-align: middle;\n",
       "    }\n",
       "\n",
       "    .dataframe tbody tr th {\n",
       "        vertical-align: top;\n",
       "    }\n",
       "\n",
       "    .dataframe thead th {\n",
       "        text-align: right;\n",
       "    }\n",
       "</style>\n",
       "<table border=\"1\" class=\"dataframe\">\n",
       "  <thead>\n",
       "    <tr style=\"text-align: right;\">\n",
       "      <th></th>\n",
       "      <th>field</th>\n",
       "      <th>level</th>\n",
       "      <th>row</th>\n",
       "      <th>message</th>\n",
       "    </tr>\n",
       "  </thead>\n",
       "  <tbody>\n",
       "    <tr>\n",
       "      <th>4</th>\n",
       "      <td>measurementTypeID</td>\n",
       "      <td>error</td>\n",
       "      <td>NaN</td>\n",
       "      <td>Required field measurementTypeID is missing</td>\n",
       "    </tr>\n",
       "    <tr>\n",
       "      <th>6</th>\n",
       "      <td>measurementValueID</td>\n",
       "      <td>error</td>\n",
       "      <td>NaN</td>\n",
       "      <td>Required field measurementValueID is missing</td>\n",
       "    </tr>\n",
       "    <tr>\n",
       "      <th>7</th>\n",
       "      <td>measurementAccuracy</td>\n",
       "      <td>error</td>\n",
       "      <td>NaN</td>\n",
       "      <td>Required field measurementAccuracy is missing</td>\n",
       "    </tr>\n",
       "    <tr>\n",
       "      <th>9</th>\n",
       "      <td>measurementUnitID</td>\n",
       "      <td>error</td>\n",
       "      <td>NaN</td>\n",
       "      <td>Required field measurementUnitID is missing</td>\n",
       "    </tr>\n",
       "    <tr>\n",
       "      <th>10</th>\n",
       "      <td>measurementDeterminedDate</td>\n",
       "      <td>error</td>\n",
       "      <td>NaN</td>\n",
       "      <td>Required field measurementDeterminedDate is missing</td>\n",
       "    </tr>\n",
       "    <tr>\n",
       "      <th>11</th>\n",
       "      <td>measurementDeterminedBy</td>\n",
       "      <td>error</td>\n",
       "      <td>NaN</td>\n",
       "      <td>Required field measurementDeterminedBy is missing</td>\n",
       "    </tr>\n",
       "    <tr>\n",
       "      <th>12</th>\n",
       "      <td>measurementMethod</td>\n",
       "      <td>error</td>\n",
       "      <td>NaN</td>\n",
       "      <td>Required field measurementMethod is missing</td>\n",
       "    </tr>\n",
       "    <tr>\n",
       "      <th>0</th>\n",
       "      <td>measurementremarks</td>\n",
       "      <td>error</td>\n",
       "      <td>0</td>\n",
       "      <td>Empty value for required field measurementremarks</td>\n",
       "    </tr>\n",
       "    <tr>\n",
       "      <th>1</th>\n",
       "      <td>measurementremarks</td>\n",
       "      <td>error</td>\n",
       "      <td>1</td>\n",
       "      <td>Empty value for required field measurementremarks</td>\n",
       "    </tr>\n",
       "  </tbody>\n",
       "</table>\n",
       "</div>"
      ],
      "text/plain": [
       "                        field  level  row  \\\n",
       "4           measurementTypeID  error  NaN   \n",
       "6          measurementValueID  error  NaN   \n",
       "7         measurementAccuracy  error  NaN   \n",
       "9           measurementUnitID  error  NaN   \n",
       "10  measurementDeterminedDate  error  NaN   \n",
       "11    measurementDeterminedBy  error  NaN   \n",
       "12          measurementMethod  error  NaN   \n",
       "0          measurementremarks  error    0   \n",
       "1          measurementremarks  error    1   \n",
       "\n",
       "                                                message  \n",
       "4           Required field measurementTypeID is missing  \n",
       "6          Required field measurementValueID is missing  \n",
       "7         Required field measurementAccuracy is missing  \n",
       "9           Required field measurementUnitID is missing  \n",
       "10  Required field measurementDeterminedDate is missing  \n",
       "11    Required field measurementDeterminedBy is missing  \n",
       "12          Required field measurementMethod is missing  \n",
       "0     Empty value for required field measurementremarks  \n",
       "1     Empty value for required field measurementremarks  "
      ]
     },
     "execution_count": 10,
     "metadata": {},
     "output_type": "execute_result"
    }
   ],
   "source": [
    "check_fields(field_data, analysis_type=\"extended_measurement_or_fact_extension\")"
   ]
  },
  {
   "cell_type": "code",
   "execution_count": 11,
   "metadata": {},
   "outputs": [
    {
     "data": {
      "text/html": [
       "<div>\n",
       "<style scoped>\n",
       "    .dataframe tbody tr th:only-of-type {\n",
       "        vertical-align: middle;\n",
       "    }\n",
       "\n",
       "    .dataframe tbody tr th {\n",
       "        vertical-align: top;\n",
       "    }\n",
       "\n",
       "    .dataframe thead th {\n",
       "        text-align: right;\n",
       "    }\n",
       "</style>\n",
       "<table border=\"1\" class=\"dataframe\">\n",
       "  <thead>\n",
       "    <tr style=\"text-align: right;\">\n",
       "      <th></th>\n",
       "      <th>field</th>\n",
       "      <th>level</th>\n",
       "      <th>row</th>\n",
       "      <th>message</th>\n",
       "    </tr>\n",
       "  </thead>\n",
       "  <tbody>\n",
       "    <tr>\n",
       "      <th>13</th>\n",
       "      <td>measurementRemarks</td>\n",
       "      <td>warning</td>\n",
       "      <td>NaN</td>\n",
       "      <td>measurementRemarks has incorrect case</td>\n",
       "    </tr>\n",
       "  </tbody>\n",
       "</table>\n",
       "</div>"
      ],
      "text/plain": [
       "                 field    level  row                                message\n",
       "13  measurementRemarks  warning  NaN  measurementRemarks has incorrect case"
      ]
     },
     "execution_count": 11,
     "metadata": {},
     "output_type": "execute_result"
    }
   ],
   "source": [
    "check_fields(field_data, analysis_type=\"extended_measurement_or_fact_extension\", level=\"warning\")"
   ]
  },
  {
   "cell_type": "code",
   "execution_count": null,
   "metadata": {},
   "outputs": [],
   "source": []
  }
 ],
 "metadata": {
  "kernelspec": {
   "display_name": "Python 3.7.11 ('env')",
   "language": "python",
   "name": "python3"
  },
  "language_info": {
   "codemirror_mode": {
    "name": "ipython",
    "version": 3
   },
   "file_extension": ".py",
   "mimetype": "text/x-python",
   "name": "python",
   "nbconvert_exporter": "python",
   "pygments_lexer": "ipython3",
   "version": "3.7.12"
  },
  "orig_nbformat": 4,
  "vscode": {
   "interpreter": {
    "hash": "de1b4a5795d1b157f1a3a747f4b184c443b0b16db4b4de4936f732d4a39e9b96"
   }
  }
 },
 "nbformat": 4,
 "nbformat_minor": 2
}
