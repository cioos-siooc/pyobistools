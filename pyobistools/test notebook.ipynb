{
 "cells": [
  {
   "cell_type": "code",
   "execution_count": null,
   "metadata": {},
   "outputs": [],
   "source": [
    "\n",
    "import pandas as pd\n",
    "import numpy as np\n",
    "from validation.check_eventids import check_eventids\n",
    "from validation.check_eventids import check_eventids, check_extension_eventids\n",
    "from validation.check_fields   import check_fields\n",
    "from validation.check_scientificname_and_ids import check_scientificname_and_ids\n",
    "#import taxa\n",
    "import requests\n",
    "import io\n",
    "NaN = np.nan\n",
    "#from utils import removesuffix\n",
    "import requests"
   ]
  },
  {
   "cell_type": "code",
   "execution_count": null,
   "metadata": {},
   "outputs": [],
   "source": [
    "requests.get(f\"https://www.itis.gov/ITISWebService/jsonservice/searchByScientificName?srchKey={data_valid_scientific_name.loc[row, 'scientificname']}\")"
   ]
  },
  {
   "cell_type": "code",
   "execution_count": 2,
   "metadata": {},
   "outputs": [
    {
     "ename": "RuntimeError",
     "evalue": "asyncio.run() cannot be called from a running event loop",
     "output_type": "error",
     "traceback": [
      "\u001b[1;31m---------------------------------------------------------------------------\u001b[0m",
      "\u001b[1;31mRuntimeError\u001b[0m                              Traceback (most recent call last)",
      "\u001b[1;32mc:\\Users\\simon\\Desktop\\Pyobis\\pyobistools\\pyobistools\\test notebook.ipynb Cellule 2\u001b[0m in \u001b[0;36m<cell line: 6>\u001b[1;34m()\u001b[0m\n\u001b[0;32m      <a href='vscode-notebook-cell:/c%3A/Users/simon/Desktop/Pyobis/pyobistools/pyobistools/test%20notebook.ipynb#W1sZmlsZQ%3D%3D?line=2'>3</a>\u001b[0m scientitifname_list \u001b[39m=\u001b[39m dataf[\u001b[39m'\u001b[39m\u001b[39mscientificname\u001b[39m\u001b[39m'\u001b[39m]\u001b[39m.\u001b[39munique()\n\u001b[0;32m      <a href='vscode-notebook-cell:/c%3A/Users/simon/Desktop/Pyobis/pyobistools/pyobistools/test%20notebook.ipynb#W1sZmlsZQ%3D%3D?line=3'>4</a>\u001b[0m dataf\u001b[39m.\u001b[39mhead()\n\u001b[1;32m----> <a href='vscode-notebook-cell:/c%3A/Users/simon/Desktop/Pyobis/pyobistools/pyobistools/test%20notebook.ipynb#W1sZmlsZQ%3D%3D?line=5'>6</a>\u001b[0m check_scientificname_and_ids(dataf, \u001b[39m'\u001b[39;49m\u001b[39mnames\u001b[39;49m\u001b[39m'\u001b[39;49m)\n",
      "File \u001b[1;32mc:\\Users\\simon\\Desktop\\Pyobis\\pyobistools\\pyobistools\\validation\\check_scientificname_and_ids.py:74\u001b[0m, in \u001b[0;36mcheck_scientificname_and_ids\u001b[1;34m(data, value, itis_usage)\u001b[0m\n\u001b[0;32m     72\u001b[0m \u001b[39m# call and timing of the async calls\u001b[39;00m\n\u001b[0;32m     73\u001b[0m start_time \u001b[39m=\u001b[39m time\u001b[39m.\u001b[39mmonotonic()\n\u001b[1;32m---> 74\u001b[0m asyncio\u001b[39m.\u001b[39;49mrun(main(liste_noms))\n\u001b[0;32m     75\u001b[0m end_time \u001b[39m=\u001b[39m time\u001b[39m.\u001b[39mmonotonic()\n\u001b[0;32m     77\u001b[0m \u001b[39m# for empty answers from WORMS, try ITIS if option is selected\u001b[39;00m\n",
      "File \u001b[1;32mc:\\Users\\simon\\anaconda3\\lib\\asyncio\\runners.py:33\u001b[0m, in \u001b[0;36mrun\u001b[1;34m(main, debug)\u001b[0m\n\u001b[0;32m      9\u001b[0m \u001b[39m\"\"\"Execute the coroutine and return the result.\u001b[39;00m\n\u001b[0;32m     10\u001b[0m \n\u001b[0;32m     11\u001b[0m \u001b[39mThis function runs the passed coroutine, taking care of\u001b[39;00m\n\u001b[1;32m   (...)\u001b[0m\n\u001b[0;32m     30\u001b[0m \u001b[39m    asyncio.run(main())\u001b[39;00m\n\u001b[0;32m     31\u001b[0m \u001b[39m\"\"\"\u001b[39;00m\n\u001b[0;32m     32\u001b[0m \u001b[39mif\u001b[39;00m events\u001b[39m.\u001b[39m_get_running_loop() \u001b[39mis\u001b[39;00m \u001b[39mnot\u001b[39;00m \u001b[39mNone\u001b[39;00m:\n\u001b[1;32m---> 33\u001b[0m     \u001b[39mraise\u001b[39;00m \u001b[39mRuntimeError\u001b[39;00m(\n\u001b[0;32m     34\u001b[0m         \u001b[39m\"\u001b[39m\u001b[39masyncio.run() cannot be called from a running event loop\u001b[39m\u001b[39m\"\u001b[39m)\n\u001b[0;32m     36\u001b[0m \u001b[39mif\u001b[39;00m \u001b[39mnot\u001b[39;00m coroutines\u001b[39m.\u001b[39miscoroutine(main):\n\u001b[0;32m     37\u001b[0m     \u001b[39mraise\u001b[39;00m \u001b[39mValueError\u001b[39;00m(\u001b[39m\"\u001b[39m\u001b[39ma coroutine was expected, got \u001b[39m\u001b[39m{!r}\u001b[39;00m\u001b[39m\"\u001b[39m\u001b[39m.\u001b[39mformat(main))\n",
      "\u001b[1;31mRuntimeError\u001b[0m: asyncio.run() cannot be called from a running event loop"
     ]
    }
   ],
   "source": [
    "dataf = pd.read_csv('sepaq_bd_1944-2020.csv')\n",
    "dataf = dataf.rename(columns=str.lower)\n",
    "scientitifname_list = dataf['scientificname'].unique()\n",
    "dataf.head()\n",
    "\n",
    "check_scientificname_and_ids(dataf, 'names')\n"
   ]
  },
  {
   "cell_type": "code",
   "execution_count": 3,
   "metadata": {},
   "outputs": [],
   "source": [
    "def remove_suffix(name: str) -> str:\n",
    "    suffixes = [\n",
    "        ' sp.',\n",
    "        ' spp.',\n",
    "        ' sp',\n",
    "        ' spp',\n",
    "    ]\n",
    "    for suf in suffixes:\n",
    "        print(suf)\n",
    "        if name.endswith(suf):\n",
    "            return removesuffix(name, suf)\n",
    "\n",
    "    # If no suffix was found return the original name\n",
    "    # with whitespace removed\n",
    "    return name.strip()\n",
    "\n",
    "def function_suffix_removal(data_valid_nom_scientifique):\n",
    "    liste_noms_pre_modif    = []\n",
    "    liste_noms              = []\n",
    "    liste_noms_sans_suffix  = []\n",
    "    liste_noms_sp           = []\n",
    "    liste_noms_sp_point     = []\n",
    "    liste_noms_spp          = []\n",
    "    liste_noms_spp_point    = []\n",
    "    \t\n",
    "    liste_noms_pre_modif = data_valid_nom_scientifique['scientificname'].to_list()\n",
    "\n",
    "    for rows in data_valid_nom_scientifique.index:\n",
    "        scientificName = data_valid_nom_scientifique['scientificname'].iloc[rows].replace(\" \",\"%20\")\n",
    "        \n",
    "        if scientificName[-3:] != 'sp.':\n",
    "            if scientificName[-2:] != 'sp':\n",
    "                if scientificName[-3:] != 'spp':\n",
    "                    if scientificName[-4:] != 'spp.':\n",
    "                        liste_noms_sans_suffix.append(scientificName)\n",
    "\n",
    "        if scientificName[-3:] == 'sp.':\n",
    "            scientificName = scientificName[:-6]\n",
    "            liste_noms_sp_point.append(scientificName)\n",
    "        if scientificName[-2:] == 'sp': \n",
    "            scientificName = scientificName[:-5]\n",
    "            liste_noms_sp.append(scientificName)\n",
    "        if scientificName[-4:] == 'spp.':\n",
    "            scientificName = scientificName[:-7]\n",
    "            liste_noms_spp_point.append(scientificName)\n",
    "        if scientificName[-3:] == 'spp':\n",
    "            scientificName = scientificName[:-6]\n",
    "            liste_noms_spp.append(scientificName)\n",
    "        \n",
    "        liste_noms.append(scientificName)\n",
    "\n",
    "    liste_noms = list(set(liste_noms))\n",
    "\n",
    "    return liste_noms_pre_modif, liste_noms, liste_noms_sans_suffix, liste_noms_sp, liste_noms_sp_point, liste_noms_spp, liste_noms_spp_point\n",
    "\n",
    "def function_add_suffix(nom, liste_noms_sans_suffix, liste_noms_sp, liste_noms_sp_point, liste_noms_spp, liste_noms_spp_point):\n",
    "    list_of_list = {}\n",
    "    nom_recomposed = nom\n",
    "    nom_recomposed = nom_recomposed.replace(\"%20\", \" \")\n",
    "    nom_recomposed_sp = NaN\n",
    "    nom_recomposed_sp_point = NaN\n",
    "    nom_recomposed_spp = NaN\n",
    "    nom_recomposed_spp_point = NaN\n",
    "\n",
    "    if nom in liste_noms_sp:\n",
    "        nom_recomposed_sp = nom_recomposed + \" sp\"\n",
    "        list_of_list[\"noms_sp\"] = nom_recomposed_sp\n",
    "\n",
    "    if nom in liste_noms_sp_point:\n",
    "        nom_recomposed_sp_point = nom_recomposed + \" sp.\"\n",
    "        list_of_list[\"noms_sp_point\"] = nom_recomposed_sp_point\n",
    "\n",
    "    if nom in liste_noms_spp:\n",
    "        nom_recomposed_spp = nom_recomposed + \" spp\"\n",
    "        list_of_list[\"noms_spp\"] = nom_recomposed_spp\n",
    "\n",
    "    if nom in liste_noms_spp_point:\n",
    "        nom_recomposed_spp_point = nom_recomposed + \" spp.\"\n",
    "        list_of_list[\"noms_spp_point\"] = nom_recomposed_spp_point\n",
    "\n",
    "    if nom in liste_noms_sans_suffix:\n",
    "        list_of_list[\"noms_sans_suffix\"] = nom_recomposed\n",
    "\n",
    "\n",
    "    return list_of_list  \n"
   ]
  },
  {
   "cell_type": "code",
   "execution_count": 4,
   "metadata": {},
   "outputs": [
    {
     "ename": "RuntimeError",
     "evalue": "asyncio.run() cannot be called from a running event loop",
     "output_type": "error",
     "traceback": [
      "\u001b[1;31m---------------------------------------------------------------------------\u001b[0m",
      "\u001b[1;31mRuntimeError\u001b[0m                              Traceback (most recent call last)",
      "\u001b[1;32mc:\\Users\\simon\\Desktop\\Pyobis\\pyobistools\\pyobistools\\test notebook.ipynb Cellule 4\u001b[0m in \u001b[0;36m<cell line: 1>\u001b[1;34m()\u001b[0m\n\u001b[1;32m----> <a href='vscode-notebook-cell:/c%3A/Users/simon/Desktop/Pyobis/pyobistools/pyobistools/test%20notebook.ipynb#W3sZmlsZQ%3D%3D?line=0'>1</a>\u001b[0m check_scientifiname_and_ids(dataf, \u001b[39m'\u001b[39;49m\u001b[39mnames\u001b[39;49m\u001b[39m'\u001b[39;49m)\n",
      "File \u001b[1;32mc:\\Users\\simon\\Desktop\\Pyobis\\pyobistools\\pyobistools\\validation\\check_scientifiname_and_ids.py:94\u001b[0m, in \u001b[0;36mcheck_scientifiname_and_ids\u001b[1;34m(data, value)\u001b[0m\n\u001b[0;32m     92\u001b[0m \u001b[39m# call and timing of the async calls\u001b[39;00m\n\u001b[0;32m     93\u001b[0m start_time \u001b[39m=\u001b[39m time\u001b[39m.\u001b[39mmonotonic()\n\u001b[1;32m---> 94\u001b[0m asyncio\u001b[39m.\u001b[39;49mrun(main(liste_noms))\n\u001b[0;32m     95\u001b[0m end_time \u001b[39m=\u001b[39m time\u001b[39m.\u001b[39mmonotonic()\n\u001b[0;32m     98\u001b[0m \u001b[39m# Analysis and tables preparation section\u001b[39;00m\n",
      "File \u001b[1;32mc:\\Users\\simon\\anaconda3\\lib\\asyncio\\runners.py:33\u001b[0m, in \u001b[0;36mrun\u001b[1;34m(main, debug)\u001b[0m\n\u001b[0;32m      9\u001b[0m \u001b[39m\"\"\"Execute the coroutine and return the result.\u001b[39;00m\n\u001b[0;32m     10\u001b[0m \n\u001b[0;32m     11\u001b[0m \u001b[39mThis function runs the passed coroutine, taking care of\u001b[39;00m\n\u001b[1;32m   (...)\u001b[0m\n\u001b[0;32m     30\u001b[0m \u001b[39m    asyncio.run(main())\u001b[39;00m\n\u001b[0;32m     31\u001b[0m \u001b[39m\"\"\"\u001b[39;00m\n\u001b[0;32m     32\u001b[0m \u001b[39mif\u001b[39;00m events\u001b[39m.\u001b[39m_get_running_loop() \u001b[39mis\u001b[39;00m \u001b[39mnot\u001b[39;00m \u001b[39mNone\u001b[39;00m:\n\u001b[1;32m---> 33\u001b[0m     \u001b[39mraise\u001b[39;00m \u001b[39mRuntimeError\u001b[39;00m(\n\u001b[0;32m     34\u001b[0m         \u001b[39m\"\u001b[39m\u001b[39masyncio.run() cannot be called from a running event loop\u001b[39m\u001b[39m\"\u001b[39m)\n\u001b[0;32m     36\u001b[0m \u001b[39mif\u001b[39;00m \u001b[39mnot\u001b[39;00m coroutines\u001b[39m.\u001b[39miscoroutine(main):\n\u001b[0;32m     37\u001b[0m     \u001b[39mraise\u001b[39;00m \u001b[39mValueError\u001b[39;00m(\u001b[39m\"\u001b[39m\u001b[39ma coroutine was expected, got \u001b[39m\u001b[39m{!r}\u001b[39;00m\u001b[39m\"\u001b[39m\u001b[39m.\u001b[39mformat(main))\n",
      "\u001b[1;31mRuntimeError\u001b[0m: asyncio.run() cannot be called from a running event loop"
     ]
    }
   ],
   "source": [
    "check_scientifiname_and_ids(dataf, 'names')"
   ]
  },
  {
   "cell_type": "code",
   "execution_count": null,
   "metadata": {},
   "outputs": [],
   "source": []
  }
 ],
 "metadata": {
  "kernelspec": {
   "display_name": "Python 3.9.12 ('base')",
   "language": "python",
   "name": "python3"
  },
  "language_info": {
   "codemirror_mode": {
    "name": "ipython",
    "version": 3
   },
   "file_extension": ".py",
   "mimetype": "text/x-python",
   "name": "python",
   "nbconvert_exporter": "python",
   "pygments_lexer": "ipython3",
   "version": "3.9.12"
  },
  "orig_nbformat": 4,
  "vscode": {
   "interpreter": {
    "hash": "d12e26f72a40d5c48233c54861fca038d6a92135fc0e5e920944e69c69b6b29d"
   }
  }
 },
 "nbformat": 4,
 "nbformat_minor": 2
}
