{
 "cells": [
  {
   "cell_type": "code",
   "execution_count": 1,
   "metadata": {},
   "outputs": [],
   "source": [
    "import pandas as pd\n",
    "import numpy as np\n",
    "from ckanapi import RemoteCKAN\n",
    "NaN = np.nan\n",
    "from pyobistools.validation.check_fields import check_fields\n",
    "import plotly.graph_objects as go\n",
    "import requests\n",
    "pd.set_option('max_colwidth', None)"
   ]
  },
  {
   "attachments": {},
   "cell_type": "markdown",
   "metadata": {},
   "source": [
    "## EAC Eelgrass QC\n",
    "\n",
    "### Load the processed CSV files"
   ]
  },
  {
   "cell_type": "code",
   "execution_count": 2,
   "metadata": {},
   "outputs": [
    {
     "data": {
      "text/html": [
       "<div>\n",
       "<style scoped>\n",
       "    .dataframe tbody tr th:only-of-type {\n",
       "        vertical-align: middle;\n",
       "    }\n",
       "\n",
       "    .dataframe tbody tr th {\n",
       "        vertical-align: top;\n",
       "    }\n",
       "\n",
       "    .dataframe thead th {\n",
       "        text-align: right;\n",
       "    }\n",
       "</style>\n",
       "<table border=\"1\" class=\"dataframe\">\n",
       "  <thead>\n",
       "    <tr style=\"text-align: right;\">\n",
       "      <th></th>\n",
       "      <th>Unnamed: 0</th>\n",
       "      <th>eventID</th>\n",
       "      <th>location</th>\n",
       "      <th>occurrenceID</th>\n",
       "      <th>scientificName</th>\n",
       "      <th>scientificNameID</th>\n",
       "      <th>occurrenceStatus</th>\n",
       "    </tr>\n",
       "  </thead>\n",
       "  <tbody>\n",
       "    <tr>\n",
       "      <th>0</th>\n",
       "      <td>1</td>\n",
       "      <td>2020-07-17T09:28:57Z_EAC_Cole_Harbour_G0060213</td>\n",
       "      <td>Cole Harbour</td>\n",
       "      <td>2020-07-17T09:28:57Z_EAC_Cole_Harbour_G0060213_495077</td>\n",
       "      <td>Zostera marina</td>\n",
       "      <td>urn:lsid:marinespecies.org:taxname:495077</td>\n",
       "      <td>NaN</td>\n",
       "    </tr>\n",
       "    <tr>\n",
       "      <th>1</th>\n",
       "      <td>2</td>\n",
       "      <td>2020-07-17T09:29:07Z_EAC_Cole_Harbour_G0060214</td>\n",
       "      <td>Cole Harbour</td>\n",
       "      <td>2020-07-17T09:29:07Z_EAC_Cole_Harbour_G0060214_495077</td>\n",
       "      <td>Zostera marina</td>\n",
       "      <td>urn:lsid:marinespecies.org:taxname:495077</td>\n",
       "      <td>?</td>\n",
       "    </tr>\n",
       "    <tr>\n",
       "      <th>2</th>\n",
       "      <td>3</td>\n",
       "      <td>2020-07-17T09:29:17Z_EAC_Cole_Harbour_G0060215</td>\n",
       "      <td>Cole Harbour</td>\n",
       "      <td>2020-07-17T09:29:17Z_EAC_Cole_Harbour_G0060215_495077</td>\n",
       "      <td>Zostera marina</td>\n",
       "      <td>urn:lsid:marinespecies.org:taxname:495077</td>\n",
       "      <td>?</td>\n",
       "    </tr>\n",
       "  </tbody>\n",
       "</table>\n",
       "</div>"
      ],
      "text/plain": [
       "   Unnamed: 0                                         eventID      location  \\\n",
       "0           1  2020-07-17T09:28:57Z_EAC_Cole_Harbour_G0060213  Cole Harbour   \n",
       "1           2  2020-07-17T09:29:07Z_EAC_Cole_Harbour_G0060214  Cole Harbour   \n",
       "2           3  2020-07-17T09:29:17Z_EAC_Cole_Harbour_G0060215  Cole Harbour   \n",
       "\n",
       "                                            occurrenceID  scientificName  \\\n",
       "0  2020-07-17T09:28:57Z_EAC_Cole_Harbour_G0060213_495077  Zostera marina   \n",
       "1  2020-07-17T09:29:07Z_EAC_Cole_Harbour_G0060214_495077  Zostera marina   \n",
       "2  2020-07-17T09:29:17Z_EAC_Cole_Harbour_G0060215_495077  Zostera marina   \n",
       "\n",
       "                            scientificNameID occurrenceStatus  \n",
       "0  urn:lsid:marinespecies.org:taxname:495077              NaN  \n",
       "1  urn:lsid:marinespecies.org:taxname:495077                ?  \n",
       "2  urn:lsid:marinespecies.org:taxname:495077                ?  "
      ]
     },
     "execution_count": 2,
     "metadata": {},
     "output_type": "execute_result"
    }
   ],
   "source": [
    "event_core = pd.read_csv('../../atlantic-bio-data/eac/eelgrass/processed_data/event.csv')\n",
    "emof = pd.read_csv('../../atlantic-bio-data/eac/eelgrass/processed_data/emof.csv')\n",
    "occurrence_core = pd.read_csv('../../atlantic-bio-data/eac/eelgrass/processed_data/occurrence.csv')\n",
    "occurrence_core.head(3)"
   ]
  },
  {
   "attachments": {},
   "cell_type": "markdown",
   "metadata": {},
   "source": [
    "Try the basic check fields functionality"
   ]
  },
  {
   "cell_type": "code",
   "execution_count": 3,
   "metadata": {},
   "outputs": [
    {
     "data": {
      "text/html": [
       "<div>\n",
       "<style scoped>\n",
       "    .dataframe tbody tr th:only-of-type {\n",
       "        vertical-align: middle;\n",
       "    }\n",
       "\n",
       "    .dataframe tbody tr th {\n",
       "        vertical-align: top;\n",
       "    }\n",
       "\n",
       "    .dataframe thead th {\n",
       "        text-align: right;\n",
       "    }\n",
       "</style>\n",
       "<table border=\"1\" class=\"dataframe\">\n",
       "  <thead>\n",
       "    <tr style=\"text-align: right;\">\n",
       "      <th></th>\n",
       "      <th>field</th>\n",
       "      <th>level</th>\n",
       "      <th>row</th>\n",
       "      <th>message</th>\n",
       "    </tr>\n",
       "  </thead>\n",
       "  <tbody>\n",
       "    <tr>\n",
       "      <th>4</th>\n",
       "      <td>countrycode</td>\n",
       "      <td>error</td>\n",
       "      <td>NaN</td>\n",
       "      <td>Required field countrycode is missing</td>\n",
       "    </tr>\n",
       "    <tr>\n",
       "      <th>5</th>\n",
       "      <td>geodeticdatum</td>\n",
       "      <td>error</td>\n",
       "      <td>NaN</td>\n",
       "      <td>Required field geodeticdatum is missing</td>\n",
       "    </tr>\n",
       "  </tbody>\n",
       "</table>\n",
       "</div>"
      ],
      "text/plain": [
       "           field  level  row                                  message\n",
       "4    countrycode  error  NaN    Required field countrycode is missing\n",
       "5  geodeticdatum  error  NaN  Required field geodeticdatum is missing"
      ]
     },
     "execution_count": 3,
     "metadata": {},
     "output_type": "execute_result"
    }
   ],
   "source": [
    "check_fields(event_core, analysis_type = 'event_core')"
   ]
  },
  {
   "cell_type": "code",
   "execution_count": 4,
   "metadata": {},
   "outputs": [
    {
     "data": {
      "text/html": [
       "<div>\n",
       "<style scoped>\n",
       "    .dataframe tbody tr th:only-of-type {\n",
       "        vertical-align: middle;\n",
       "    }\n",
       "\n",
       "    .dataframe tbody tr th {\n",
       "        vertical-align: top;\n",
       "    }\n",
       "\n",
       "    .dataframe thead th {\n",
       "        text-align: right;\n",
       "    }\n",
       "</style>\n",
       "<table border=\"1\" class=\"dataframe\">\n",
       "  <thead>\n",
       "    <tr style=\"text-align: right;\">\n",
       "      <th></th>\n",
       "      <th>field</th>\n",
       "      <th>level</th>\n",
       "      <th>row</th>\n",
       "      <th>message</th>\n",
       "    </tr>\n",
       "  </thead>\n",
       "  <tbody>\n",
       "    <tr>\n",
       "      <th>2</th>\n",
       "      <td>basisofrecord</td>\n",
       "      <td>error</td>\n",
       "      <td>NaN</td>\n",
       "      <td>Required field basisofrecord is missing</td>\n",
       "    </tr>\n",
       "    <tr>\n",
       "      <th>5</th>\n",
       "      <td>kingdom</td>\n",
       "      <td>error</td>\n",
       "      <td>NaN</td>\n",
       "      <td>Required field kingdom is missing</td>\n",
       "    </tr>\n",
       "    <tr>\n",
       "      <th>0</th>\n",
       "      <td>occurrencestatus</td>\n",
       "      <td>error</td>\n",
       "      <td>0</td>\n",
       "      <td>Empty value for required field occurrencestatus</td>\n",
       "    </tr>\n",
       "    <tr>\n",
       "      <th>1</th>\n",
       "      <td>occurrencestatus</td>\n",
       "      <td>error</td>\n",
       "      <td>6</td>\n",
       "      <td>Empty value for required field occurrencestatus</td>\n",
       "    </tr>\n",
       "    <tr>\n",
       "      <th>2</th>\n",
       "      <td>occurrencestatus</td>\n",
       "      <td>error</td>\n",
       "      <td>7</td>\n",
       "      <td>Empty value for required field occurrencestatus</td>\n",
       "    </tr>\n",
       "  </tbody>\n",
       "</table>\n",
       "</div>"
      ],
      "text/plain": [
       "              field  level  row  \\\n",
       "2     basisofrecord  error  NaN   \n",
       "5           kingdom  error  NaN   \n",
       "0  occurrencestatus  error    0   \n",
       "1  occurrencestatus  error    6   \n",
       "2  occurrencestatus  error    7   \n",
       "\n",
       "                                           message  \n",
       "2          Required field basisofrecord is missing  \n",
       "5                Required field kingdom is missing  \n",
       "0  Empty value for required field occurrencestatus  \n",
       "1  Empty value for required field occurrencestatus  \n",
       "2  Empty value for required field occurrencestatus  "
      ]
     },
     "execution_count": 4,
     "metadata": {},
     "output_type": "execute_result"
    }
   ],
   "source": [
    "check_fields(occurrence_core,  analysis_type = 'occurrence_extension').head()"
   ]
  }
 ],
 "metadata": {
  "kernelspec": {
   "display_name": "pyobistools",
   "language": "python",
   "name": "python3"
  },
  "language_info": {
   "codemirror_mode": {
    "name": "ipython",
    "version": 3
   },
   "file_extension": ".py",
   "mimetype": "text/x-python",
   "name": "python",
   "nbconvert_exporter": "python",
   "pygments_lexer": "ipython3",
   "version": "3.9.15 | packaged by conda-forge | (main, Nov 22 2022, 15:55:03) \n[GCC 10.4.0]"
  },
  "orig_nbformat": 4,
  "vscode": {
   "interpreter": {
    "hash": "0a101c7837683aab719556291a53f03f315714d813fa0531c41067dbf5140882"
   }
  }
 },
 "nbformat": 4,
 "nbformat_minor": 2
}
