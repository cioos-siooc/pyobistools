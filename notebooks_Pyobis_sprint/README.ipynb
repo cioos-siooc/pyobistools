{
 "cells": [
  {
   "cell_type": "markdown",
   "id": "806550ba",
   "metadata": {},
   "source": [
    "# pyobistools: Tools for data enhancement and quality control - for python!"
   ]
  },
  {
   "cell_type": "markdown",
   "id": "dfa4e77a",
   "metadata": {},
   "source": [
    "## Installation\n",
    "---\n",
    "Installing `pyobistools` requires going to https://github.com/cioos-siooc/pyobistools/"
   ]
  },
  {
   "cell_type": "code",
   "execution_count": null,
   "id": "b329655b",
   "metadata": {},
   "outputs": [],
   "source": [
    "import sys\n",
    "import pandas as pd\n",
    "import numpy as np\n",
    "from ckanapi import RemoteCKAN\n",
    "NaN = np.nan\n",
    "from pyobistools.taxa import *\n",
    "from pyobistools.validation.check_fields import check_fields\n",
    "from pyobistools.validation.check_eventids import *\n",
    "from pyobistools.validation.check_onland import *\n",
    "from pyobistools.validation.check_scientificname_and_ids import *\n",
    "import plotly.express as px\n",
    "import requests\n",
    "pd.set_option('max_colwidth', None)"
   ]
  },
  {
   "cell_type": "markdown",
   "id": "53156886",
   "metadata": {},
   "source": [
    "You can also install `pyobis` - instructions: https://github.com/iobis/pyobis/blob/main/README.md"
   ]
  },
  {
   "cell_type": "code",
   "execution_count": null,
   "id": "577da608",
   "metadata": {},
   "outputs": [],
   "source": [
    "! pip install pyobis"
   ]
  },
  {
   "cell_type": "code",
   "execution_count": null,
   "id": "9f48e187",
   "metadata": {},
   "outputs": [],
   "source": [
    "from pyobis import dataset\n",
    "from pyobis import occurrences"
   ]
  },
  {
   "cell_type": "markdown",
   "id": "f3a52c79",
   "metadata": {},
   "source": [
    "## Taxon matching\n",
    "---\n",
    "`search_worms()` searches for records based on a list of scientific names and returns a standardized pandas DataFrame representing the results "
   ]
  },
  {
   "cell_type": "code",
   "execution_count": null,
   "id": "44d2d3f9",
   "metadata": {},
   "outputs": [],
   "source": [
    "names = [\"Abra alva\", \"Buccinum fusiforme\", \"Buccinum fusiforme\", \"Buccinum fusiforme\", \"hlqsdkf\"]\n",
    "search_worms(names)"
   ]
  },
  {
   "cell_type": "markdown",
   "id": "9140ad03",
   "metadata": {},
   "source": [
    "## Check required fields\n",
    "---\n",
    "`check_fields(data, level, analysis_type, accepted_name_usage_id_check)` will check all OBIS requirements are present for a given core or extension.\n",
    "- **data** = the input data as a pandas DataFrame\n",
    "- **level** = `error` or `warning`, the difference between requirements not being met or recommendations not being met\n",
    "- **analysis_type** = `event_core`, `occurrence_core`, `occurrence_extension`, or `extended_measurement_or_fact_extension`\n",
    "- **accepted_name_usage_id_check** = `True` or `False` will filter out unaccepted scientific name ids"
   ]
  },
  {
   "cell_type": "code",
   "execution_count": null,
   "id": "6cb65132",
   "metadata": {},
   "outputs": [],
   "source": [
    "data = pd.DataFrame(columns = [\"occurrenceID\",\"sciientificName\",\"locality\",\"minimumDepthInMeters\"])\n",
    "data[\"occurrenceID\"] = [1,2,3]\n",
    "data[\"scientificName\"] = [\"Abra alba\", \"NA\", \"NA\"]\n",
    "data[\"locality\"] = [\"North Sea\", \"English Channel\", \"Flemish Banks\"]\n",
    "data[\"minimumDepthInMeters\"] = [10,None,5]\n",
    "\n",
    "check_fields(data, 'error', 'occurrence_core', 'False')"
   ]
  },
  {
   "cell_type": "markdown",
   "id": "e4eabb04",
   "metadata": {},
   "source": [
    "## Plot points on a map\n",
    "---\n",
    "`not found`"
   ]
  },
  {
   "cell_type": "markdown",
   "id": "fd15cdda",
   "metadata": {},
   "source": [
    "## Check on-land\n",
    "---\n",
    "`check_onland(data, land, report, buffer, offline)` will check whether given points are over land or not.\n",
    "\n",
    "- **data** = the input data as a pandas DataFrame\n",
    "- **land** = a custom land polygon to check against. If not provided, use Natural Earth.\n",
    "- **report** = if True, errors returned instead of records\n",
    "- **buffer** = set how far inland points are still to be deemed valid\n",
    "- **offline** = if True, a local simplified shoreline is used, otherwise an OBIS webservice is used. Default is False"
   ]
  },
  {
   "cell_type": "code",
   "execution_count": null,
   "id": "d7efebed",
   "metadata": {},
   "outputs": [],
   "source": [
    "query = dataset.search(scientificname = 'Prionace glauca')\n",
    "data = query.execute() # or query.data\n",
    "data"
   ]
  },
  {
   "cell_type": "code",
   "execution_count": null,
   "id": "93dc4a8a",
   "metadata": {},
   "outputs": [],
   "source": [
    "## Grab Mola mola occurrences from OBIS web server\n",
    "data = occurrences.search(scientificname = 'Prionace glauca').execute()"
   ]
  },
  {
   "cell_type": "code",
   "execution_count": null,
   "id": "c3f176fc",
   "metadata": {},
   "outputs": [],
   "source": [
    "data.head(2) # shows an example of the data package"
   ]
  },
  {
   "cell_type": "code",
   "execution_count": null,
   "id": "0a3830e1",
   "metadata": {},
   "outputs": [],
   "source": [
    "## Passes OBIS data through a check to see whether any values may be on land or not\n",
    "on_land = check_onland(data, offline=True) # potentially 235 observations that might be on land"
   ]
  },
  {
   "cell_type": "code",
   "execution_count": null,
   "id": "43efbcbd",
   "metadata": {},
   "outputs": [],
   "source": [
    "on_land"
   ]
  },
  {
   "cell_type": "code",
   "execution_count": null,
   "id": "7d8f7a4f",
   "metadata": {},
   "outputs": [],
   "source": [
    "# Percent of on-land entries.\n",
    "on_land['on_land'].value_counts(normalize=True).mul(100).astype(str)+'%'"
   ]
  },
  {
   "cell_type": "code",
   "execution_count": null,
   "id": "3f0836a0",
   "metadata": {},
   "outputs": [],
   "source": [
    "# Request the report instead of the offending rows only\n",
    "check_onland(data, report = True)"
   ]
  },
  {
   "cell_type": "code",
   "execution_count": null,
   "id": "2e0f7aa7",
   "metadata": {},
   "outputs": [],
   "source": []
  }
 ],
 "metadata": {
  "kernelspec": {
   "display_name": "pyobistools",
   "language": "python",
   "name": "pyobistools"
  },
  "language_info": {
   "codemirror_mode": {
    "name": "ipython",
    "version": 3
   },
   "file_extension": ".py",
   "mimetype": "text/x-python",
   "name": "python",
   "nbconvert_exporter": "python",
   "pygments_lexer": "ipython3",
   "version": "3.11.6"
  }
 },
 "nbformat": 4,
 "nbformat_minor": 5
}
