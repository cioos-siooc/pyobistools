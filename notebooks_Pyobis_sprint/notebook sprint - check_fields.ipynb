{
 "cells": [
  {
   "cell_type": "code",
   "execution_count": 1,
   "metadata": {},
   "outputs": [],
   "source": [
    "import pandas as pd\n",
    "import numpy as np\n",
    "from ckanapi import RemoteCKAN\n",
    "NaN = np.nan\n",
    "from pyobistools.validation.check_fields import check_fields\n",
    "import plotly.graph_objects as go\n",
    "import requests\n",
    "pd.set_option('max_colwidth', None)"
   ]
  },
  {
   "cell_type": "markdown",
   "metadata": {},
   "source": [
    "### Info about this notebook series\n",
    "\n",
    "This series of notebook is meant to serve as an educational tool to learn how to use the PyObis biodiversity data validation package: + https://github.com/cioos-siooc/pyobistools\n",
    "\n",
    "Command to install PyObis (currently not hosted on Pypi)\n",
    "+ pip install git+https://github.com/cioos-siooc/pyobistools@main#egg=pyobistools\n",
    "\n",
    "Darwin Core documentation: \n",
    "+ https://dwc.tdwg.org/\n",
    "\n",
    "Darwin Core file types required fields: \n",
    "+ https://ioos.github.io/bio_mobilization_workshop/01-introduction/index.html\n",
    "+ https://ioos.github.io/bio_mobilization_workshop/04-create-schema/index.html"
   ]
  },
  {
   "cell_type": "markdown",
   "metadata": {},
   "source": []
  },
  {
   "cell_type": "markdown",
   "metadata": {},
   "source": [
    "### Notebook to test Pyobis' function 'check_fields'\n",
    "\n",
    "##### Function 'check_fields' description\n",
    "This function is used with Darwin Core file to report:\n",
    "+ the absence of required or recommended fields \n",
    "+ the presence of empty values in present required or recommended fields \n",
    "\n",
    "##### Function 'check_fields' arguments\n",
    "+ data: Dataframe of the data to evaluate\n",
    "+ level (default = 'error'): \n",
    "    + 'error': Return errors regarding the absence of required fields and empty values in present required fields\n",
    "    + 'warning': Return warnings regarding the absence of recommended fields and presence of empty values in recommended fields\n",
    "+ analysis_type: Type of DWC file to analyze \n",
    "    + event_core\n",
    "    + occurrence_extension\n",
    "    + extended_measurement_or_fact_extension\n",
    "    + occurrence_core\n",
    "+ accepted_name_usage_id_check (default = False): Option to check for a given row if there is a value in field 'acceptednameusageid' when for the same row there is no value in field 'scientificnameid'. If the former is positive, the error reporting an empty value for 'scientificnameid' is withdrawn.\n",
    "\n",
    "##### Relation to obistools package in R:\n",
    "This is the python equivalent of check_fields()\n",
    "Warning, check_fields() from {obistools} only check the presence of required and recommended fields along with empty values for those fields. Checks_fields () from {pyobistools} goes further with the analysis_type and accepted_name_usage_id_check argument\n",
    "See R documentation https://github.com/iobis/obistools#check-required-fields \n",
    "\n"
   ]
  },
  {
   "cell_type": "markdown",
   "metadata": {},
   "source": [
    "Load different types of DWC files:"
   ]
  },
  {
   "cell_type": "code",
   "execution_count": 2,
   "metadata": {},
   "outputs": [
    {
     "data": {
      "text/html": [
       "<div>\n",
       "<style scoped>\n",
       "    .dataframe tbody tr th:only-of-type {\n",
       "        vertical-align: middle;\n",
       "    }\n",
       "\n",
       "    .dataframe tbody tr th {\n",
       "        vertical-align: top;\n",
       "    }\n",
       "\n",
       "    .dataframe thead th {\n",
       "        text-align: right;\n",
       "    }\n",
       "</style>\n",
       "<table border=\"1\" class=\"dataframe\">\n",
       "  <thead>\n",
       "    <tr style=\"text-align: right;\">\n",
       "      <th></th>\n",
       "      <th>datasetID</th>\n",
       "      <th>occurrenceID</th>\n",
       "      <th>eventDate</th>\n",
       "      <th>decimalLatitude</th>\n",
       "      <th>decimalLongitude</th>\n",
       "      <th>AccuracyInMeters</th>\n",
       "      <th>CommonName</th>\n",
       "      <th>scientificName</th>\n",
       "      <th>scientificNameID</th>\n",
       "      <th>taxonID</th>\n",
       "      <th>...</th>\n",
       "      <th>taxonRank</th>\n",
       "      <th>occurenceStatus</th>\n",
       "      <th>basisOfRecord</th>\n",
       "      <th>user_id</th>\n",
       "      <th>user_login</th>\n",
       "      <th>quality_grade</th>\n",
       "      <th>license</th>\n",
       "      <th>url</th>\n",
       "      <th>iconic_taxon_name</th>\n",
       "      <th>place</th>\n",
       "    </tr>\n",
       "  </thead>\n",
       "  <tbody>\n",
       "    <tr>\n",
       "      <th>0</th>\n",
       "      <td>NCC-ST-JOHN-RIVER-SALTMARSHES-2021</td>\n",
       "      <td>NCC-ST-JOHN-RIVER-SALTMARSHES-2021-001</td>\n",
       "      <td>2021-08-11T14:02:26Z</td>\n",
       "      <td>45.268169</td>\n",
       "      <td>-66.122442</td>\n",
       "      <td>8</td>\n",
       "      <td>reed canary grass</td>\n",
       "      <td>Phalaris arundinacea</td>\n",
       "      <td>urn:lsid:itis.gov:itis_tsn:41335</td>\n",
       "      <td>https://www.gbif.org/species/5289756</td>\n",
       "      <td>...</td>\n",
       "      <td>species</td>\n",
       "      <td>presence</td>\n",
       "      <td>HumanObservation</td>\n",
       "      <td>1954409</td>\n",
       "      <td>bethbrooks1030</td>\n",
       "      <td>research</td>\n",
       "      <td>CC-BY-NC</td>\n",
       "      <td>https://www.inaturalist.org/observations/90776330</td>\n",
       "      <td>Plantae</td>\n",
       "      <td>Randolph_Island</td>\n",
       "    </tr>\n",
       "    <tr>\n",
       "      <th>1</th>\n",
       "      <td>NCC-ST-JOHN-RIVER-SALTMARSHES-2021</td>\n",
       "      <td>NCC-ST-JOHN-RIVER-SALTMARSHES-2021-002</td>\n",
       "      <td>2021-08-11T14:03:12Z</td>\n",
       "      <td>45.268148</td>\n",
       "      <td>-66.122424</td>\n",
       "      <td>9</td>\n",
       "      <td>prairie cordgrass</td>\n",
       "      <td>Sporobolus michauxianus</td>\n",
       "      <td>NaN</td>\n",
       "      <td>https://www.gbif.org/species/9592414</td>\n",
       "      <td>...</td>\n",
       "      <td>species</td>\n",
       "      <td>presence</td>\n",
       "      <td>HumanObservation</td>\n",
       "      <td>1954409</td>\n",
       "      <td>bethbrooks1030</td>\n",
       "      <td>needs_id</td>\n",
       "      <td>CC-BY-NC</td>\n",
       "      <td>https://www.inaturalist.org/observations/90776368</td>\n",
       "      <td>Plantae</td>\n",
       "      <td>Randolph_Island</td>\n",
       "    </tr>\n",
       "    <tr>\n",
       "      <th>2</th>\n",
       "      <td>NCC-ST-JOHN-RIVER-SALTMARSHES-2021</td>\n",
       "      <td>NCC-ST-JOHN-RIVER-SALTMARSHES-2021-003</td>\n",
       "      <td>2021-08-11T14:04:32Z</td>\n",
       "      <td>45.268140</td>\n",
       "      <td>-66.122220</td>\n",
       "      <td>8</td>\n",
       "      <td>three-square bulrush</td>\n",
       "      <td>Schoenoplectus pungens</td>\n",
       "      <td>urn:lsid:itis.gov:itis_tsn:508146</td>\n",
       "      <td>https://www.gbif.org/fr/species/2711190</td>\n",
       "      <td>...</td>\n",
       "      <td>species</td>\n",
       "      <td>presence</td>\n",
       "      <td>HumanObservation</td>\n",
       "      <td>1954409</td>\n",
       "      <td>bethbrooks1030</td>\n",
       "      <td>research</td>\n",
       "      <td>CC-BY-NC</td>\n",
       "      <td>https://www.inaturalist.org/observations/90776406</td>\n",
       "      <td>Plantae</td>\n",
       "      <td>Randolph_Island</td>\n",
       "    </tr>\n",
       "  </tbody>\n",
       "</table>\n",
       "<p>3 rows × 22 columns</p>\n",
       "</div>"
      ],
      "text/plain": [
       "                            datasetID                            occurrenceID  \\\n",
       "0  NCC-ST-JOHN-RIVER-SALTMARSHES-2021  NCC-ST-JOHN-RIVER-SALTMARSHES-2021-001   \n",
       "1  NCC-ST-JOHN-RIVER-SALTMARSHES-2021  NCC-ST-JOHN-RIVER-SALTMARSHES-2021-002   \n",
       "2  NCC-ST-JOHN-RIVER-SALTMARSHES-2021  NCC-ST-JOHN-RIVER-SALTMARSHES-2021-003   \n",
       "\n",
       "              eventDate  decimalLatitude  decimalLongitude  AccuracyInMeters  \\\n",
       "0  2021-08-11T14:02:26Z        45.268169        -66.122442                 8   \n",
       "1  2021-08-11T14:03:12Z        45.268148        -66.122424                 9   \n",
       "2  2021-08-11T14:04:32Z        45.268140        -66.122220                 8   \n",
       "\n",
       "             CommonName           scientificName  \\\n",
       "0     reed canary grass     Phalaris arundinacea   \n",
       "1     prairie cordgrass  Sporobolus michauxianus   \n",
       "2  three-square bulrush   Schoenoplectus pungens   \n",
       "\n",
       "                    scientificNameID                                  taxonID  \\\n",
       "0   urn:lsid:itis.gov:itis_tsn:41335     https://www.gbif.org/species/5289756   \n",
       "1                                NaN     https://www.gbif.org/species/9592414   \n",
       "2  urn:lsid:itis.gov:itis_tsn:508146  https://www.gbif.org/fr/species/2711190   \n",
       "\n",
       "   ...  taxonRank  occurenceStatus     basisOfRecord  user_id      user_login  \\\n",
       "0  ...    species         presence  HumanObservation  1954409  bethbrooks1030   \n",
       "1  ...    species         presence  HumanObservation  1954409  bethbrooks1030   \n",
       "2  ...    species         presence  HumanObservation  1954409  bethbrooks1030   \n",
       "\n",
       "   quality_grade   license                                                url  \\\n",
       "0       research  CC-BY-NC  https://www.inaturalist.org/observations/90776330   \n",
       "1       needs_id  CC-BY-NC  https://www.inaturalist.org/observations/90776368   \n",
       "2       research  CC-BY-NC  https://www.inaturalist.org/observations/90776406   \n",
       "\n",
       "  iconic_taxon_name            place  \n",
       "0           Plantae  Randolph_Island  \n",
       "1           Plantae  Randolph_Island  \n",
       "2           Plantae  Randolph_Island  \n",
       "\n",
       "[3 rows x 22 columns]"
      ]
     },
     "execution_count": 2,
     "metadata": {},
     "output_type": "execute_result"
    }
   ],
   "source": [
    "event_core = pd.read_csv('https://catalogue.preprod.ogsl.ca/data/zip-rne/ca-cioos_0925e105-860e-4fe7-83ac-afc5e4c2699e/zip-rne_marais-hick_event.csv')\n",
    "emof1 = pd.read_csv('https://catalogue.preprod.ogsl.ca/data/zip-rne/ca-cioos_0925e105-860e-4fe7-83ac-afc5e4c2699e/zip-rne_marais-hick_event_emof_2022.csv')\n",
    "occurrence_extension = pd.read_csv('https://catalogue.preprod.ogsl.ca/data/mpo/e7453782-9b27-442b-bd81-780680771844/opano_bottomtrawl_occurrence_sept_1970-2019.csv')\n",
    "emof2 = pd.read_csv('https://catalogue.preprod.ogsl.ca/data/zip-rne/ca-cioos_0925e105-860e-4fe7-83ac-afc5e4c2699e/zip-rne_marais-hick_occurrence_emof_2022.csv')\n",
    "occurrence_core = pd.read_csv('https://catalogue.ogsl.ca/data/ncc/ca-cioos_b52bb8be-d225-442c-94ab-6f107a64b8a6/saint_john_river_saltmarshes_species-occurrence_2021.csv')\n",
    "occurrence_core.head(3)"
   ]
  },
  {
   "cell_type": "markdown",
   "metadata": {},
   "source": [
    "Try the check_fields function - analysis type:"
   ]
  },
  {
   "cell_type": "code",
   "execution_count": 4,
   "metadata": {},
   "outputs": [
    {
     "data": {
      "text/html": [
       "<div>\n",
       "<style scoped>\n",
       "    .dataframe tbody tr th:only-of-type {\n",
       "        vertical-align: middle;\n",
       "    }\n",
       "\n",
       "    .dataframe tbody tr th {\n",
       "        vertical-align: top;\n",
       "    }\n",
       "\n",
       "    .dataframe thead th {\n",
       "        text-align: right;\n",
       "    }\n",
       "</style>\n",
       "<table border=\"1\" class=\"dataframe\">\n",
       "  <thead>\n",
       "    <tr style=\"text-align: right;\">\n",
       "      <th></th>\n",
       "      <th>field</th>\n",
       "      <th>level</th>\n",
       "      <th>row</th>\n",
       "      <th>message</th>\n",
       "    </tr>\n",
       "  </thead>\n",
       "  <tbody>\n",
       "    <tr>\n",
       "      <th>5</th>\n",
       "      <td>geodeticdatum</td>\n",
       "      <td>error</td>\n",
       "      <td>NaN</td>\n",
       "      <td>Required field geodeticdatum is missing</td>\n",
       "    </tr>\n",
       "  </tbody>\n",
       "</table>\n",
       "</div>"
      ],
      "text/plain": [
       "           field  level  row                                  message\n",
       "5  geodeticdatum  error  NaN  Required field geodeticdatum is missing"
      ]
     },
     "execution_count": 4,
     "metadata": {},
     "output_type": "execute_result"
    }
   ],
   "source": [
    "check_fields(event_core, analysis_type = 'event_core')"
   ]
  },
  {
   "cell_type": "code",
   "execution_count": 5,
   "metadata": {},
   "outputs": [
    {
     "data": {
      "text/html": [
       "<div>\n",
       "<style scoped>\n",
       "    .dataframe tbody tr th:only-of-type {\n",
       "        vertical-align: middle;\n",
       "    }\n",
       "\n",
       "    .dataframe tbody tr th {\n",
       "        vertical-align: top;\n",
       "    }\n",
       "\n",
       "    .dataframe thead th {\n",
       "        text-align: right;\n",
       "    }\n",
       "</style>\n",
       "<table border=\"1\" class=\"dataframe\">\n",
       "  <thead>\n",
       "    <tr style=\"text-align: right;\">\n",
       "      <th></th>\n",
       "      <th>field</th>\n",
       "      <th>level</th>\n",
       "      <th>row</th>\n",
       "      <th>message</th>\n",
       "    </tr>\n",
       "  </thead>\n",
       "  <tbody>\n",
       "    <tr>\n",
       "      <th>5</th>\n",
       "      <td>kingdom</td>\n",
       "      <td>error</td>\n",
       "      <td>NaN</td>\n",
       "      <td>Required field kingdom is missing</td>\n",
       "    </tr>\n",
       "    <tr>\n",
       "      <th>0</th>\n",
       "      <td>scientificnameid</td>\n",
       "      <td>error</td>\n",
       "      <td>1165</td>\n",
       "      <td>Empty value for required field scientificnameid</td>\n",
       "    </tr>\n",
       "    <tr>\n",
       "      <th>1</th>\n",
       "      <td>scientificnameid</td>\n",
       "      <td>error</td>\n",
       "      <td>1173</td>\n",
       "      <td>Empty value for required field scientificnameid</td>\n",
       "    </tr>\n",
       "    <tr>\n",
       "      <th>2</th>\n",
       "      <td>scientificnameid</td>\n",
       "      <td>error</td>\n",
       "      <td>1256</td>\n",
       "      <td>Empty value for required field scientificnameid</td>\n",
       "    </tr>\n",
       "    <tr>\n",
       "      <th>3</th>\n",
       "      <td>scientificnameid</td>\n",
       "      <td>error</td>\n",
       "      <td>1270</td>\n",
       "      <td>Empty value for required field scientificnameid</td>\n",
       "    </tr>\n",
       "  </tbody>\n",
       "</table>\n",
       "</div>"
      ],
      "text/plain": [
       "              field  level   row  \\\n",
       "5           kingdom  error   NaN   \n",
       "0  scientificnameid  error  1165   \n",
       "1  scientificnameid  error  1173   \n",
       "2  scientificnameid  error  1256   \n",
       "3  scientificnameid  error  1270   \n",
       "\n",
       "                                           message  \n",
       "5                Required field kingdom is missing  \n",
       "0  Empty value for required field scientificnameid  \n",
       "1  Empty value for required field scientificnameid  \n",
       "2  Empty value for required field scientificnameid  \n",
       "3  Empty value for required field scientificnameid  "
      ]
     },
     "execution_count": 5,
     "metadata": {},
     "output_type": "execute_result"
    }
   ],
   "source": [
    "check_fields(occurrence_extension,  analysis_type = 'occurrence_extension').head()"
   ]
  },
  {
   "cell_type": "code",
   "execution_count": 6,
   "metadata": {},
   "outputs": [
    {
     "data": {
      "text/html": [
       "<div>\n",
       "<style scoped>\n",
       "    .dataframe tbody tr th:only-of-type {\n",
       "        vertical-align: middle;\n",
       "    }\n",
       "\n",
       "    .dataframe tbody tr th {\n",
       "        vertical-align: top;\n",
       "    }\n",
       "\n",
       "    .dataframe thead th {\n",
       "        text-align: right;\n",
       "    }\n",
       "</style>\n",
       "<table border=\"1\" class=\"dataframe\">\n",
       "  <thead>\n",
       "    <tr style=\"text-align: right;\">\n",
       "      <th></th>\n",
       "      <th>field</th>\n",
       "      <th>level</th>\n",
       "      <th>row</th>\n",
       "      <th>message</th>\n",
       "    </tr>\n",
       "  </thead>\n",
       "  <tbody>\n",
       "    <tr>\n",
       "      <th>2</th>\n",
       "      <td>occurrenceid</td>\n",
       "      <td>error</td>\n",
       "      <td>NaN</td>\n",
       "      <td>Required field occurrenceid is missing</td>\n",
       "    </tr>\n",
       "    <tr>\n",
       "      <th>4</th>\n",
       "      <td>measurementtypeid</td>\n",
       "      <td>error</td>\n",
       "      <td>NaN</td>\n",
       "      <td>Required field measurementtypeid is missing</td>\n",
       "    </tr>\n",
       "    <tr>\n",
       "      <th>6</th>\n",
       "      <td>measurementvalueid</td>\n",
       "      <td>error</td>\n",
       "      <td>NaN</td>\n",
       "      <td>Required field measurementvalueid is missing</td>\n",
       "    </tr>\n",
       "    <tr>\n",
       "      <th>7</th>\n",
       "      <td>measurementaccuracy</td>\n",
       "      <td>error</td>\n",
       "      <td>NaN</td>\n",
       "      <td>Required field measurementaccuracy is missing</td>\n",
       "    </tr>\n",
       "    <tr>\n",
       "      <th>9</th>\n",
       "      <td>measurementunitid</td>\n",
       "      <td>error</td>\n",
       "      <td>NaN</td>\n",
       "      <td>Required field measurementunitid is missing</td>\n",
       "    </tr>\n",
       "  </tbody>\n",
       "</table>\n",
       "</div>"
      ],
      "text/plain": [
       "                 field  level  row  \\\n",
       "2         occurrenceid  error  NaN   \n",
       "4    measurementtypeid  error  NaN   \n",
       "6   measurementvalueid  error  NaN   \n",
       "7  measurementaccuracy  error  NaN   \n",
       "9    measurementunitid  error  NaN   \n",
       "\n",
       "                                         message  \n",
       "2         Required field occurrenceid is missing  \n",
       "4    Required field measurementtypeid is missing  \n",
       "6   Required field measurementvalueid is missing  \n",
       "7  Required field measurementaccuracy is missing  \n",
       "9    Required field measurementunitid is missing  "
      ]
     },
     "execution_count": 6,
     "metadata": {},
     "output_type": "execute_result"
    }
   ],
   "source": [
    "check_fields(emof1, analysis_type = 'extended_measurement_or_fact_extension').head()"
   ]
  },
  {
   "cell_type": "code",
   "execution_count": null,
   "metadata": {},
   "outputs": [],
   "source": []
  },
  {
   "cell_type": "markdown",
   "metadata": {},
   "source": [
    "Try the check_fields function - level type:"
   ]
  },
  {
   "cell_type": "code",
   "execution_count": 12,
   "metadata": {},
   "outputs": [
    {
     "data": {
      "text/html": [
       "<div>\n",
       "<style scoped>\n",
       "    .dataframe tbody tr th:only-of-type {\n",
       "        vertical-align: middle;\n",
       "    }\n",
       "\n",
       "    .dataframe tbody tr th {\n",
       "        vertical-align: top;\n",
       "    }\n",
       "\n",
       "    .dataframe thead th {\n",
       "        text-align: right;\n",
       "    }\n",
       "</style>\n",
       "<table border=\"1\" class=\"dataframe\">\n",
       "  <thead>\n",
       "    <tr style=\"text-align: right;\">\n",
       "      <th></th>\n",
       "      <th>field</th>\n",
       "      <th>level</th>\n",
       "      <th>row</th>\n",
       "      <th>message</th>\n",
       "    </tr>\n",
       "  </thead>\n",
       "  <tbody>\n",
       "    <tr>\n",
       "      <th>7</th>\n",
       "      <td>occurrencestatus</td>\n",
       "      <td>error</td>\n",
       "      <td>NaN</td>\n",
       "      <td>Required field occurrencestatus is missing</td>\n",
       "    </tr>\n",
       "    <tr>\n",
       "      <th>8</th>\n",
       "      <td>countrycode</td>\n",
       "      <td>error</td>\n",
       "      <td>NaN</td>\n",
       "      <td>Required field countrycode is missing</td>\n",
       "    </tr>\n",
       "    <tr>\n",
       "      <th>9</th>\n",
       "      <td>kingdom</td>\n",
       "      <td>error</td>\n",
       "      <td>NaN</td>\n",
       "      <td>Required field kingdom is missing</td>\n",
       "    </tr>\n",
       "    <tr>\n",
       "      <th>10</th>\n",
       "      <td>geodeticdatum</td>\n",
       "      <td>error</td>\n",
       "      <td>NaN</td>\n",
       "      <td>Required field geodeticdatum is missing</td>\n",
       "    </tr>\n",
       "    <tr>\n",
       "      <th>0</th>\n",
       "      <td>scientificnameid</td>\n",
       "      <td>error</td>\n",
       "      <td>1</td>\n",
       "      <td>Empty value for required field scientificnameid</td>\n",
       "    </tr>\n",
       "  </tbody>\n",
       "</table>\n",
       "</div>"
      ],
      "text/plain": [
       "               field  level  row  \\\n",
       "7   occurrencestatus  error  NaN   \n",
       "8        countrycode  error  NaN   \n",
       "9            kingdom  error  NaN   \n",
       "10     geodeticdatum  error  NaN   \n",
       "0   scientificnameid  error    1   \n",
       "\n",
       "                                            message  \n",
       "7        Required field occurrencestatus is missing  \n",
       "8             Required field countrycode is missing  \n",
       "9                 Required field kingdom is missing  \n",
       "10          Required field geodeticdatum is missing  \n",
       "0   Empty value for required field scientificnameid  "
      ]
     },
     "execution_count": 12,
     "metadata": {},
     "output_type": "execute_result"
    }
   ],
   "source": [
    "check_fields(occurrence_core, level = 'error', analysis_type = 'occurrence_core').head()"
   ]
  },
  {
   "cell_type": "code",
   "execution_count": 13,
   "metadata": {},
   "outputs": [
    {
     "data": {
      "text/html": [
       "<div>\n",
       "<style scoped>\n",
       "    .dataframe tbody tr th:only-of-type {\n",
       "        vertical-align: middle;\n",
       "    }\n",
       "\n",
       "    .dataframe tbody tr th {\n",
       "        vertical-align: top;\n",
       "    }\n",
       "\n",
       "    .dataframe thead th {\n",
       "        text-align: right;\n",
       "    }\n",
       "</style>\n",
       "<table border=\"1\" class=\"dataframe\">\n",
       "  <thead>\n",
       "    <tr style=\"text-align: right;\">\n",
       "      <th></th>\n",
       "      <th>field</th>\n",
       "      <th>level</th>\n",
       "      <th>row</th>\n",
       "      <th>message</th>\n",
       "    </tr>\n",
       "  </thead>\n",
       "  <tbody>\n",
       "    <tr>\n",
       "      <th>11</th>\n",
       "      <td>minimumdepthinmeters</td>\n",
       "      <td>warning</td>\n",
       "      <td>NaN</td>\n",
       "      <td>Recommended field minimumdepthinmeters is missing</td>\n",
       "    </tr>\n",
       "    <tr>\n",
       "      <th>12</th>\n",
       "      <td>maximumdepthinmeters</td>\n",
       "      <td>warning</td>\n",
       "      <td>NaN</td>\n",
       "      <td>Recommended field maximumdepthinmeters is missing</td>\n",
       "    </tr>\n",
       "    <tr>\n",
       "      <th>13</th>\n",
       "      <td>coordinateuncertaintyinmeters</td>\n",
       "      <td>warning</td>\n",
       "      <td>NaN</td>\n",
       "      <td>Recommended field coordinateuncertaintyinmeters is missing</td>\n",
       "    </tr>\n",
       "    <tr>\n",
       "      <th>14</th>\n",
       "      <td>samplingprotocol</td>\n",
       "      <td>warning</td>\n",
       "      <td>NaN</td>\n",
       "      <td>Recommended field samplingprotocol is missing</td>\n",
       "    </tr>\n",
       "    <tr>\n",
       "      <th>16</th>\n",
       "      <td>organismquantity</td>\n",
       "      <td>warning</td>\n",
       "      <td>NaN</td>\n",
       "      <td>Recommended field organismquantity is missing</td>\n",
       "    </tr>\n",
       "  </tbody>\n",
       "</table>\n",
       "</div>"
      ],
      "text/plain": [
       "                            field    level  row  \\\n",
       "11           minimumdepthinmeters  warning  NaN   \n",
       "12           maximumdepthinmeters  warning  NaN   \n",
       "13  coordinateuncertaintyinmeters  warning  NaN   \n",
       "14               samplingprotocol  warning  NaN   \n",
       "16               organismquantity  warning  NaN   \n",
       "\n",
       "                                                       message  \n",
       "11           Recommended field minimumdepthinmeters is missing  \n",
       "12           Recommended field maximumdepthinmeters is missing  \n",
       "13  Recommended field coordinateuncertaintyinmeters is missing  \n",
       "14               Recommended field samplingprotocol is missing  \n",
       "16               Recommended field organismquantity is missing  "
      ]
     },
     "execution_count": 13,
     "metadata": {},
     "output_type": "execute_result"
    }
   ],
   "source": [
    "check_fields(occurrence_core, level = 'warning', analysis_type = 'occurrence_core').head()"
   ]
  },
  {
   "cell_type": "code",
   "execution_count": 16,
   "metadata": {},
   "outputs": [
    {
     "data": {
      "text/html": [
       "<div>\n",
       "<style scoped>\n",
       "    .dataframe tbody tr th:only-of-type {\n",
       "        vertical-align: middle;\n",
       "    }\n",
       "\n",
       "    .dataframe tbody tr th {\n",
       "        vertical-align: top;\n",
       "    }\n",
       "\n",
       "    .dataframe thead th {\n",
       "        text-align: right;\n",
       "    }\n",
       "</style>\n",
       "<table border=\"1\" class=\"dataframe\">\n",
       "  <thead>\n",
       "    <tr style=\"text-align: right;\">\n",
       "      <th></th>\n",
       "      <th>eventid</th>\n",
       "      <th>occurrenceid</th>\n",
       "      <th>eventdate</th>\n",
       "      <th>basisofrecord</th>\n",
       "      <th>rank</th>\n",
       "      <th>french.name</th>\n",
       "      <th>english.name</th>\n",
       "      <th>scientificname</th>\n",
       "      <th>scientificnameid</th>\n",
       "      <th>taxonomicstatus</th>\n",
       "      <th>acceptednameusage</th>\n",
       "      <th>acceptednameusageid</th>\n",
       "      <th>lifestage</th>\n",
       "      <th>occurrencestatus</th>\n",
       "      <th>taxonremarks</th>\n",
       "    </tr>\n",
       "  </thead>\n",
       "  <tbody>\n",
       "    <tr>\n",
       "      <th>0</th>\n",
       "      <td>MPO-OPANO-BOTTOMTRAWL-1970-09-15T12:25Z</td>\n",
       "      <td>MPO-OPANO-BOTTOMTRAWL-1970-01</td>\n",
       "      <td>1970-09-15T12:25Z</td>\n",
       "      <td>LivingSpecimen</td>\n",
       "      <td>species</td>\n",
       "      <td>Morue franche</td>\n",
       "      <td>COD(ATLANTIC)</td>\n",
       "      <td>Gadus morhua</td>\n",
       "      <td>urn:lsid:marinespecies.org:taxname:126436</td>\n",
       "      <td>accepted</td>\n",
       "      <td>Gadus morhua</td>\n",
       "      <td>urn:lsid:marinespecies.org:taxname:126436</td>\n",
       "      <td>NaN</td>\n",
       "      <td>presence</td>\n",
       "      <td>NaN</td>\n",
       "    </tr>\n",
       "    <tr>\n",
       "      <th>1</th>\n",
       "      <td>MPO-OPANO-BOTTOMTRAWL-1970-09-15T12:25Z</td>\n",
       "      <td>MPO-OPANO-BOTTOMTRAWL-1970-02</td>\n",
       "      <td>1970-09-15T12:25Z</td>\n",
       "      <td>LivingSpecimen</td>\n",
       "      <td>species</td>\n",
       "      <td>Plie canadienne</td>\n",
       "      <td>AMERICAN PLAICE</td>\n",
       "      <td>Hippoglossoides platessoides</td>\n",
       "      <td>urn:lsid:marinespecies.org:taxname:127137</td>\n",
       "      <td>accepted</td>\n",
       "      <td>Hippoglossoides platessoides</td>\n",
       "      <td>urn:lsid:marinespecies.org:taxname:127137</td>\n",
       "      <td>NaN</td>\n",
       "      <td>presence</td>\n",
       "      <td>NaN</td>\n",
       "    </tr>\n",
       "  </tbody>\n",
       "</table>\n",
       "</div>"
      ],
      "text/plain": [
       "                                   eventid                   occurrenceid  \\\n",
       "0  MPO-OPANO-BOTTOMTRAWL-1970-09-15T12:25Z  MPO-OPANO-BOTTOMTRAWL-1970-01   \n",
       "1  MPO-OPANO-BOTTOMTRAWL-1970-09-15T12:25Z  MPO-OPANO-BOTTOMTRAWL-1970-02   \n",
       "\n",
       "           eventdate   basisofrecord     rank      french.name  \\\n",
       "0  1970-09-15T12:25Z  LivingSpecimen  species    Morue franche   \n",
       "1  1970-09-15T12:25Z  LivingSpecimen  species  Plie canadienne   \n",
       "\n",
       "      english.name                scientificname  \\\n",
       "0    COD(ATLANTIC)                  Gadus morhua   \n",
       "1  AMERICAN PLAICE  Hippoglossoides platessoides   \n",
       "\n",
       "                            scientificnameid taxonomicstatus  \\\n",
       "0  urn:lsid:marinespecies.org:taxname:126436        accepted   \n",
       "1  urn:lsid:marinespecies.org:taxname:127137        accepted   \n",
       "\n",
       "              acceptednameusage                        acceptednameusageid  \\\n",
       "0                  Gadus morhua  urn:lsid:marinespecies.org:taxname:126436   \n",
       "1  Hippoglossoides platessoides  urn:lsid:marinespecies.org:taxname:127137   \n",
       "\n",
       "  lifestage occurrencestatus taxonremarks  \n",
       "0       NaN         presence          NaN  \n",
       "1       NaN         presence          NaN  "
      ]
     },
     "execution_count": 16,
     "metadata": {},
     "output_type": "execute_result"
    }
   ],
   "source": [
    "occurrence_extension.head(2)"
   ]
  },
  {
   "cell_type": "markdown",
   "metadata": {},
   "source": [
    "Try the check_fields function - accepted_name_usage_id_check:"
   ]
  },
  {
   "cell_type": "code",
   "execution_count": 9,
   "metadata": {},
   "outputs": [
    {
     "name": "stdout",
     "output_type": "stream",
     "text": [
      "8004\n"
     ]
    },
    {
     "data": {
      "text/html": [
       "<div>\n",
       "<style scoped>\n",
       "    .dataframe tbody tr th:only-of-type {\n",
       "        vertical-align: middle;\n",
       "    }\n",
       "\n",
       "    .dataframe tbody tr th {\n",
       "        vertical-align: top;\n",
       "    }\n",
       "\n",
       "    .dataframe thead th {\n",
       "        text-align: right;\n",
       "    }\n",
       "</style>\n",
       "<table border=\"1\" class=\"dataframe\">\n",
       "  <thead>\n",
       "    <tr style=\"text-align: right;\">\n",
       "      <th></th>\n",
       "      <th>field</th>\n",
       "      <th>level</th>\n",
       "      <th>row</th>\n",
       "      <th>message</th>\n",
       "    </tr>\n",
       "  </thead>\n",
       "  <tbody>\n",
       "    <tr>\n",
       "      <th>5</th>\n",
       "      <td>kingdom</td>\n",
       "      <td>error</td>\n",
       "      <td>NaN</td>\n",
       "      <td>Required field kingdom is missing</td>\n",
       "    </tr>\n",
       "    <tr>\n",
       "      <th>0</th>\n",
       "      <td>scientificnameid</td>\n",
       "      <td>error</td>\n",
       "      <td>1165</td>\n",
       "      <td>Empty value for required field scientificnameid</td>\n",
       "    </tr>\n",
       "    <tr>\n",
       "      <th>1</th>\n",
       "      <td>scientificnameid</td>\n",
       "      <td>error</td>\n",
       "      <td>1173</td>\n",
       "      <td>Empty value for required field scientificnameid</td>\n",
       "    </tr>\n",
       "    <tr>\n",
       "      <th>2</th>\n",
       "      <td>scientificnameid</td>\n",
       "      <td>error</td>\n",
       "      <td>1256</td>\n",
       "      <td>Empty value for required field scientificnameid</td>\n",
       "    </tr>\n",
       "    <tr>\n",
       "      <th>3</th>\n",
       "      <td>scientificnameid</td>\n",
       "      <td>error</td>\n",
       "      <td>1270</td>\n",
       "      <td>Empty value for required field scientificnameid</td>\n",
       "    </tr>\n",
       "  </tbody>\n",
       "</table>\n",
       "</div>"
      ],
      "text/plain": [
       "              field  level   row  \\\n",
       "5           kingdom  error   NaN   \n",
       "0  scientificnameid  error  1165   \n",
       "1  scientificnameid  error  1173   \n",
       "2  scientificnameid  error  1256   \n",
       "3  scientificnameid  error  1270   \n",
       "\n",
       "                                           message  \n",
       "5                Required field kingdom is missing  \n",
       "0  Empty value for required field scientificnameid  \n",
       "1  Empty value for required field scientificnameid  \n",
       "2  Empty value for required field scientificnameid  \n",
       "3  Empty value for required field scientificnameid  "
      ]
     },
     "execution_count": 9,
     "metadata": {},
     "output_type": "execute_result"
    }
   ],
   "source": [
    "print(len(check_fields(occurrence_extension,  analysis_type = 'occurrence_extension', accepted_name_usage_id_check = True )))\n",
    "check_fields(occurrence_extension,  analysis_type = 'occurrence_extension', accepted_name_usage_id_check = True ).head()"
   ]
  },
  {
   "cell_type": "code",
   "execution_count": 10,
   "metadata": {},
   "outputs": [
    {
     "name": "stdout",
     "output_type": "stream",
     "text": [
      "12320\n"
     ]
    },
    {
     "data": {
      "text/html": [
       "<div>\n",
       "<style scoped>\n",
       "    .dataframe tbody tr th:only-of-type {\n",
       "        vertical-align: middle;\n",
       "    }\n",
       "\n",
       "    .dataframe tbody tr th {\n",
       "        vertical-align: top;\n",
       "    }\n",
       "\n",
       "    .dataframe thead th {\n",
       "        text-align: right;\n",
       "    }\n",
       "</style>\n",
       "<table border=\"1\" class=\"dataframe\">\n",
       "  <thead>\n",
       "    <tr style=\"text-align: right;\">\n",
       "      <th></th>\n",
       "      <th>field</th>\n",
       "      <th>level</th>\n",
       "      <th>row</th>\n",
       "      <th>message</th>\n",
       "    </tr>\n",
       "  </thead>\n",
       "  <tbody>\n",
       "    <tr>\n",
       "      <th>5</th>\n",
       "      <td>kingdom</td>\n",
       "      <td>error</td>\n",
       "      <td>NaN</td>\n",
       "      <td>Required field kingdom is missing</td>\n",
       "    </tr>\n",
       "    <tr>\n",
       "      <th>0</th>\n",
       "      <td>scientificnameid</td>\n",
       "      <td>error</td>\n",
       "      <td>1165</td>\n",
       "      <td>Empty value for required field scientificnameid</td>\n",
       "    </tr>\n",
       "    <tr>\n",
       "      <th>1</th>\n",
       "      <td>scientificnameid</td>\n",
       "      <td>error</td>\n",
       "      <td>1173</td>\n",
       "      <td>Empty value for required field scientificnameid</td>\n",
       "    </tr>\n",
       "    <tr>\n",
       "      <th>2</th>\n",
       "      <td>scientificnameid</td>\n",
       "      <td>error</td>\n",
       "      <td>1256</td>\n",
       "      <td>Empty value for required field scientificnameid</td>\n",
       "    </tr>\n",
       "    <tr>\n",
       "      <th>3</th>\n",
       "      <td>scientificnameid</td>\n",
       "      <td>error</td>\n",
       "      <td>1270</td>\n",
       "      <td>Empty value for required field scientificnameid</td>\n",
       "    </tr>\n",
       "  </tbody>\n",
       "</table>\n",
       "</div>"
      ],
      "text/plain": [
       "              field  level   row  \\\n",
       "5           kingdom  error   NaN   \n",
       "0  scientificnameid  error  1165   \n",
       "1  scientificnameid  error  1173   \n",
       "2  scientificnameid  error  1256   \n",
       "3  scientificnameid  error  1270   \n",
       "\n",
       "                                           message  \n",
       "5                Required field kingdom is missing  \n",
       "0  Empty value for required field scientificnameid  \n",
       "1  Empty value for required field scientificnameid  \n",
       "2  Empty value for required field scientificnameid  \n",
       "3  Empty value for required field scientificnameid  "
      ]
     },
     "execution_count": 10,
     "metadata": {},
     "output_type": "execute_result"
    }
   ],
   "source": [
    "print(len(check_fields(occurrence_extension,  analysis_type = 'occurrence_extension', accepted_name_usage_id_check = False )))\n",
    "check_fields(occurrence_extension,  analysis_type = 'occurrence_extension', accepted_name_usage_id_check = False ).head()"
   ]
  },
  {
   "cell_type": "code",
   "execution_count": null,
   "metadata": {},
   "outputs": [],
   "source": []
  },
  {
   "cell_type": "markdown",
   "metadata": {},
   "source": [
    "#### Extras - Latitudes and longitudes exploration"
   ]
  },
  {
   "cell_type": "code",
   "execution_count": 18,
   "metadata": {},
   "outputs": [
    {
     "name": "stdout",
     "output_type": "stream",
     "text": [
      "centre lat:  45.27645278\n",
      "centre lon:  -66.13394166500001\n",
      "area:  0.0029805482084073256\n",
      "zoom :  11.681980998922137\n"
     ]
    },
    {
     "data": {
      "application/vnd.plotly.v1+json": {
       "config": {
        "plotlyServerURL": "https://plot.ly"
       },
       "data": [
        {
         "lat": [
          45.26816922,
          45.26814847,
          45.26813985,
          45.2681848,
          45.26829507,
          45.26845686,
          45.26845972,
          45.26848312,
          45.26846412,
          45.2688739,
          45.26788045,
          45.26782477,
          45.26762761,
          45.26777481,
          45.2688904,
          45.26877259,
          45.26952778,
          45.269625,
          45.26960278,
          45.26966667,
          45.26971111,
          45.26967778,
          45.26976111,
          45.26976111,
          45.26974722,
          45.26977222,
          45.2698,
          45.27018611,
          45.27044722,
          45.27054722,
          45.270625,
          45.27066944,
          45.27068056,
          45.27062222,
          45.27067222,
          45.27064444,
          45.27062222,
          45.27066667,
          45.27063611,
          45.27061389,
          45.27058056,
          45.27059167,
          45.27059167,
          45.27062222,
          45.27061389,
          45.27069167,
          45.27073056,
          45.27071111,
          45.27068889,
          45.27069444,
          45.27065278,
          45.27063889,
          45.26981111,
          45.26913056,
          45.27071111,
          45.27070556,
          45.30306389,
          45.30316667,
          45.30318611,
          45.303275,
          45.30353611,
          45.30340278,
          45.30341944,
          45.30347222,
          45.30345,
          45.30346111,
          45.3035,
          45.30352778,
          45.30353333,
          45.30358611,
          45.30364722,
          45.30368611,
          45.30371389,
          45.30363889,
          45.30364722,
          45.30370556,
          45.30358611,
          45.30353889,
          45.303625,
          45.30349167,
          45.30323056,
          45.30324167,
          45.303342,
          45.30321,
          45.303225,
          45.303225,
          45.30306389,
          45.30314722,
          45.27206667,
          45.27203,
          45.27187,
          45.27170278,
          45.27170278,
          45.27170278,
          45.27170278,
          45.27170278,
          45.27158611,
          45.27156944,
          45.27152778,
          45.27153333,
          45.27259444,
          45.27251944,
          45.27251944,
          45.27159722,
          45.27284444,
          45.27290556,
          45.27216389,
          45.27265556,
          45.2726,
          45.27245,
          45.27232222,
          45.27209167,
          45.27191111,
          45.27191111,
          45.27217778,
          45.27223333,
          45.27223611,
          45.27183056,
          45.27180278,
          45.27171389,
          45.26083,
          45.26084629,
          45.26150545,
          45.259755,
          45.26128,
          45.26155,
          45.26042222,
          45.26058611,
          45.26074722,
          45.26071111,
          45.26072778,
          45.26088333,
          45.26089444,
          45.26089722,
          45.26087222,
          45.26088333,
          45.26089444,
          45.26087778,
          45.26087778,
          45.26089722,
          45.26091667,
          45.260875,
          45.26088333,
          45.26086111,
          45.26083889,
          45.26083611,
          45.26091667,
          45.26091944,
          45.26088611,
          45.26088333,
          45.26083056,
          45.26081111,
          45.26081111,
          45.26082222,
          45.26078889,
          45.26090278,
          45.26092222,
          45.26129444,
          45.26093056,
          45.26112778,
          45.261225,
          45.26120833,
          45.26132222,
          45.26136944,
          45.26139167,
          45.26141389,
          45.26159444,
          45.26158056,
          45.26155,
          45.26158056,
          45.26132222,
          45.26129167,
          45.26129722,
          45.26128611,
          45.26128889,
          45.26126667,
          45.26125833,
          45.25989167,
          45.25991111,
          45.25975833,
          45.25966111,
          45.259625,
          45.28309722,
          45.283475,
          45.28343889,
          45.28341944,
          45.28285278,
          45.28285278,
          45.28321944,
          45.28337222,
          45.28337222,
          45.283425,
          45.28343056,
          45.28345556,
          45.28350278,
          45.28348333,
          45.28343056,
          45.28515278,
          45.28503333,
          45.28504444,
          45.28498333,
          45.28495,
          45.28494167,
          45.28499722,
          45.28495,
          45.28495833,
          45.28491944,
          45.28496389,
          45.28493889,
          45.28495,
          45.28491389,
          45.28491944,
          45.28492222,
          45.28490556,
          45.28498333,
          45.28495833,
          45.28498056,
          45.28493889,
          45.2534,
          45.24919167,
          45.25031111,
          45.25365833,
          45.25358889,
          45.24986389,
          45.25003889,
          45.25298611,
          45.25033333,
          45.2503,
          45.25032222,
          45.25031111,
          45.25028611,
          45.25028889,
          45.25034722,
          45.25042778,
          45.25035,
          45.25018333,
          45.25018611,
          45.24976944,
          45.24955556,
          45.24955556,
          45.24948889,
          45.24941389,
          45.24939167,
          45.24934167,
          45.250325,
          45.24934444,
          45.25003889,
          45.25040833,
          45.250325,
          45.25296667,
          45.25354722,
          45.25026944,
          45.25033611,
          45.24947222,
          45.25614444,
          45.2559,
          45.2559,
          45.25585,
          45.25569167,
          45.25570833,
          45.25516389,
          45.25461389,
          45.25496667,
          45.25538056,
          45.25533889,
          45.25511667,
          45.25539167,
          45.25608889,
          45.25618333,
          45.25618333,
          45.25622778,
          45.25622778,
          45.25606667,
          45.25556389,
          45.25557778,
          45.25609722,
          45.25616667,
          45.25622778,
          45.25606667,
          45.25616667,
          45.25606667,
          45.25611944,
          45.25606667,
          45.25586667,
          45.25583056,
          45.25583333,
          45.25568611,
          45.25573333,
          45.25580556,
          45.25580278,
          45.25561389,
          45.25616667,
          45.25527222,
          45.25458056,
          45.25500556,
          45.25533889,
          45.25519444,
          45.25524444,
          45.25530556,
          45.25560278,
          45.25461389
         ],
         "lon": [
          -66.12244175,
          -66.12242436,
          -66.12222041,
          -66.12205048,
          -66.12198715,
          -66.12194944,
          -66.12196685,
          -66.12190709,
          -66.12193694,
          -66.12013459,
          -66.11924107,
          -66.11934505,
          -66.11947199,
          -66.11909663,
          -66.1187151,
          -66.11919239,
          -66.11260556,
          -66.11243611,
          -66.11242222,
          -66.11240278,
          -66.11241667,
          -66.11236111,
          -66.11236667,
          -66.112375,
          -66.11234167,
          -66.11229722,
          -66.11233056,
          -66.11176389,
          -66.11167778,
          -66.11154444,
          -66.11143889,
          -66.11144722,
          -66.11143889,
          -66.11145,
          -66.11145833,
          -66.11145833,
          -66.11145,
          -66.11135,
          -66.11125,
          -66.11121944,
          -66.11126389,
          -66.11122778,
          -66.11122778,
          -66.11123333,
          -66.11123056,
          -66.11129167,
          -66.11126111,
          -66.11128889,
          -66.11128889,
          -66.11150278,
          -66.11148611,
          -66.11140556,
          -66.11230278,
          -66.11304444,
          -66.11135278,
          -66.11134444,
          -66.12629444,
          -66.12635556,
          -66.12633889,
          -66.12575,
          -66.12496667,
          -66.12472222,
          -66.12471389,
          -66.12471111,
          -66.12447778,
          -66.12443889,
          -66.12447778,
          -66.12459444,
          -66.12458333,
          -66.1247,
          -66.12466944,
          -66.12466111,
          -66.12476389,
          -66.12464722,
          -66.12465,
          -66.12448611,
          -66.1247,
          -66.12508056,
          -66.12465,
          -66.12532778,
          -66.12607222,
          -66.12577778,
          -66.125315,
          -66.125369,
          -66.12623611,
          -66.12623611,
          -66.12629444,
          -66.12633333,
          -66.1072,
          -66.1071695,
          -66.10716117,
          -66.10714444,
          -66.10714444,
          -66.10714444,
          -66.10714444,
          -66.10714444,
          -66.10695833,
          -66.10692778,
          -66.10696389,
          -66.10699167,
          -66.10671389,
          -66.10660833,
          -66.10660833,
          -66.10702222,
          -66.10711111,
          -66.10686389,
          -66.10749444,
          -66.10704444,
          -66.10706111,
          -66.10708889,
          -66.10731111,
          -66.10767222,
          -66.10720278,
          -66.1072,
          -66.10761389,
          -66.10739167,
          -66.10730556,
          -66.10720833,
          -66.10722222,
          -66.10726389,
          -66.1209945,
          -66.12101147,
          -66.12054795,
          -66.12232217,
          -66.12162783,
          -66.12065,
          -66.12142778,
          -66.12158056,
          -66.12155278,
          -66.12148611,
          -66.12151389,
          -66.12163056,
          -66.12165,
          -66.121625,
          -66.12133333,
          -66.12114722,
          -66.12111944,
          -66.12111944,
          -66.12113056,
          -66.12110833,
          -66.12110556,
          -66.12100278,
          -66.12099167,
          -66.12099167,
          -66.12096944,
          -66.12096111,
          -66.12087778,
          -66.120925,
          -66.12085556,
          -66.120875,
          -66.12058889,
          -66.12061667,
          -66.12060278,
          -66.12057778,
          -66.12054444,
          -66.12056667,
          -66.12033333,
          -66.12049444,
          -66.12034722,
          -66.12045,
          -66.12039722,
          -66.12042778,
          -66.12061667,
          -66.120675,
          -66.12071667,
          -66.12066944,
          -66.12046944,
          -66.12046389,
          -66.1205,
          -66.12051667,
          -66.12112778,
          -66.12111389,
          -66.121725,
          -66.12178333,
          -66.12178056,
          -66.12194167,
          -66.12205,
          -66.12332778,
          -66.12335556,
          -66.12296111,
          -66.12230278,
          -66.12228333,
          -66.16008889,
          -66.16056667,
          -66.16062222,
          -66.16056944,
          -66.16010278,
          -66.16010278,
          -66.16020278,
          -66.16038056,
          -66.16038056,
          -66.16037222,
          -66.16038333,
          -66.16046944,
          -66.16058611,
          -66.16055278,
          -66.16038611,
          -66.16101389,
          -66.16105,
          -66.16104444,
          -66.16105278,
          -66.16105556,
          -66.16106389,
          -66.16108889,
          -66.16110833,
          -66.16110278,
          -66.16114444,
          -66.16117778,
          -66.16121667,
          -66.16125278,
          -66.16123056,
          -66.16125278,
          -66.16124722,
          -66.161275,
          -66.16120278,
          -66.16123611,
          -66.16124167,
          -66.16125833,
          -66.14113617,
          -66.14601117,
          -66.14640556,
          -66.14356111,
          -66.14348889,
          -66.14678333,
          -66.14679444,
          -66.14428333,
          -66.14663333,
          -66.14640278,
          -66.146425,
          -66.14640556,
          -66.1464,
          -66.14640556,
          -66.14642222,
          -66.14633056,
          -66.14631389,
          -66.14622222,
          -66.14621944,
          -66.14626389,
          -66.14624167,
          -66.14624167,
          -66.14621111,
          -66.14613333,
          -66.14611111,
          -66.14599444,
          -66.14677778,
          -66.14601389,
          -66.14679444,
          -66.14650278,
          -66.1465,
          -66.14428056,
          -66.14374444,
          -66.14669722,
          -66.14646667,
          -66.1462,
          -66.1303,
          -66.13111389,
          -66.13112222,
          -66.13105,
          -66.13272778,
          -66.13274444,
          -66.13266944,
          -66.13743056,
          -66.13468333,
          -66.13308611,
          -66.13322222,
          -66.13398333,
          -66.13313056,
          -66.12983889,
          -66.129975,
          -66.129975,
          -66.13009444,
          -66.13017222,
          -66.13043889,
          -66.133125,
          -66.13308333,
          -66.13310278,
          -66.13030556,
          -66.13009444,
          -66.13043889,
          -66.13030556,
          -66.13043889,
          -66.13089722,
          -66.13043889,
          -66.13126667,
          -66.13165278,
          -66.13138333,
          -66.13185556,
          -66.13186944,
          -66.13245278,
          -66.13281667,
          -66.13307222,
          -66.13030556,
          -66.13283611,
          -66.13745833,
          -66.13469444,
          -66.13323333,
          -66.13268333,
          -66.13280833,
          -66.13291944,
          -66.13311389,
          -66.13743056
         ],
         "marker": {
          "color": "rgb(16, 40, 54)",
          "opacity": 0.8,
          "size": 7
         },
         "mode": "markers",
         "text": [
          "NCC-ST-JOHN-RIVER-SALTMARSHES-2021",
          "NCC-ST-JOHN-RIVER-SALTMARSHES-2021",
          "NCC-ST-JOHN-RIVER-SALTMARSHES-2021",
          "NCC-ST-JOHN-RIVER-SALTMARSHES-2021",
          "NCC-ST-JOHN-RIVER-SALTMARSHES-2021",
          "NCC-ST-JOHN-RIVER-SALTMARSHES-2021",
          "NCC-ST-JOHN-RIVER-SALTMARSHES-2021",
          "NCC-ST-JOHN-RIVER-SALTMARSHES-2021",
          "NCC-ST-JOHN-RIVER-SALTMARSHES-2021",
          "NCC-ST-JOHN-RIVER-SALTMARSHES-2021",
          "NCC-ST-JOHN-RIVER-SALTMARSHES-2021",
          "NCC-ST-JOHN-RIVER-SALTMARSHES-2021",
          "NCC-ST-JOHN-RIVER-SALTMARSHES-2021",
          "NCC-ST-JOHN-RIVER-SALTMARSHES-2021",
          "NCC-ST-JOHN-RIVER-SALTMARSHES-2021",
          "NCC-ST-JOHN-RIVER-SALTMARSHES-2021",
          "NCC-ST-JOHN-RIVER-SALTMARSHES-2021",
          "NCC-ST-JOHN-RIVER-SALTMARSHES-2021",
          "NCC-ST-JOHN-RIVER-SALTMARSHES-2021",
          "NCC-ST-JOHN-RIVER-SALTMARSHES-2021",
          "NCC-ST-JOHN-RIVER-SALTMARSHES-2021",
          "NCC-ST-JOHN-RIVER-SALTMARSHES-2021",
          "NCC-ST-JOHN-RIVER-SALTMARSHES-2021",
          "NCC-ST-JOHN-RIVER-SALTMARSHES-2021",
          "NCC-ST-JOHN-RIVER-SALTMARSHES-2021",
          "NCC-ST-JOHN-RIVER-SALTMARSHES-2021",
          "NCC-ST-JOHN-RIVER-SALTMARSHES-2021",
          "NCC-ST-JOHN-RIVER-SALTMARSHES-2021",
          "NCC-ST-JOHN-RIVER-SALTMARSHES-2021",
          "NCC-ST-JOHN-RIVER-SALTMARSHES-2021",
          "NCC-ST-JOHN-RIVER-SALTMARSHES-2021",
          "NCC-ST-JOHN-RIVER-SALTMARSHES-2021",
          "NCC-ST-JOHN-RIVER-SALTMARSHES-2021",
          "NCC-ST-JOHN-RIVER-SALTMARSHES-2021",
          "NCC-ST-JOHN-RIVER-SALTMARSHES-2021",
          "NCC-ST-JOHN-RIVER-SALTMARSHES-2021",
          "NCC-ST-JOHN-RIVER-SALTMARSHES-2021",
          "NCC-ST-JOHN-RIVER-SALTMARSHES-2021",
          "NCC-ST-JOHN-RIVER-SALTMARSHES-2021",
          "NCC-ST-JOHN-RIVER-SALTMARSHES-2021",
          "NCC-ST-JOHN-RIVER-SALTMARSHES-2021",
          "NCC-ST-JOHN-RIVER-SALTMARSHES-2021",
          "NCC-ST-JOHN-RIVER-SALTMARSHES-2021",
          "NCC-ST-JOHN-RIVER-SALTMARSHES-2021",
          "NCC-ST-JOHN-RIVER-SALTMARSHES-2021",
          "NCC-ST-JOHN-RIVER-SALTMARSHES-2021",
          "NCC-ST-JOHN-RIVER-SALTMARSHES-2021",
          "NCC-ST-JOHN-RIVER-SALTMARSHES-2021",
          "NCC-ST-JOHN-RIVER-SALTMARSHES-2021",
          "NCC-ST-JOHN-RIVER-SALTMARSHES-2021",
          "NCC-ST-JOHN-RIVER-SALTMARSHES-2021",
          "NCC-ST-JOHN-RIVER-SALTMARSHES-2021",
          "NCC-ST-JOHN-RIVER-SALTMARSHES-2021",
          "NCC-ST-JOHN-RIVER-SALTMARSHES-2021",
          "NCC-ST-JOHN-RIVER-SALTMARSHES-2021",
          "NCC-ST-JOHN-RIVER-SALTMARSHES-2021",
          "NCC-ST-JOHN-RIVER-SALTMARSHES-2021",
          "NCC-ST-JOHN-RIVER-SALTMARSHES-2021",
          "NCC-ST-JOHN-RIVER-SALTMARSHES-2021",
          "NCC-ST-JOHN-RIVER-SALTMARSHES-2021",
          "NCC-ST-JOHN-RIVER-SALTMARSHES-2021",
          "NCC-ST-JOHN-RIVER-SALTMARSHES-2021",
          "NCC-ST-JOHN-RIVER-SALTMARSHES-2021",
          "NCC-ST-JOHN-RIVER-SALTMARSHES-2021",
          "NCC-ST-JOHN-RIVER-SALTMARSHES-2021",
          "NCC-ST-JOHN-RIVER-SALTMARSHES-2021",
          "NCC-ST-JOHN-RIVER-SALTMARSHES-2021",
          "NCC-ST-JOHN-RIVER-SALTMARSHES-2021",
          "NCC-ST-JOHN-RIVER-SALTMARSHES-2021",
          "NCC-ST-JOHN-RIVER-SALTMARSHES-2021",
          "NCC-ST-JOHN-RIVER-SALTMARSHES-2021",
          "NCC-ST-JOHN-RIVER-SALTMARSHES-2021",
          "NCC-ST-JOHN-RIVER-SALTMARSHES-2021",
          "NCC-ST-JOHN-RIVER-SALTMARSHES-2021",
          "NCC-ST-JOHN-RIVER-SALTMARSHES-2021",
          "NCC-ST-JOHN-RIVER-SALTMARSHES-2021",
          "NCC-ST-JOHN-RIVER-SALTMARSHES-2021",
          "NCC-ST-JOHN-RIVER-SALTMARSHES-2021",
          "NCC-ST-JOHN-RIVER-SALTMARSHES-2021",
          "NCC-ST-JOHN-RIVER-SALTMARSHES-2021",
          "NCC-ST-JOHN-RIVER-SALTMARSHES-2021",
          "NCC-ST-JOHN-RIVER-SALTMARSHES-2021",
          "NCC-ST-JOHN-RIVER-SALTMARSHES-2021",
          "NCC-ST-JOHN-RIVER-SALTMARSHES-2021",
          "NCC-ST-JOHN-RIVER-SALTMARSHES-2021",
          "NCC-ST-JOHN-RIVER-SALTMARSHES-2021",
          "NCC-ST-JOHN-RIVER-SALTMARSHES-2021",
          "NCC-ST-JOHN-RIVER-SALTMARSHES-2021",
          "NCC-ST-JOHN-RIVER-SALTMARSHES-2021",
          "NCC-ST-JOHN-RIVER-SALTMARSHES-2021",
          "NCC-ST-JOHN-RIVER-SALTMARSHES-2021",
          "NCC-ST-JOHN-RIVER-SALTMARSHES-2021",
          "NCC-ST-JOHN-RIVER-SALTMARSHES-2021",
          "NCC-ST-JOHN-RIVER-SALTMARSHES-2021",
          "NCC-ST-JOHN-RIVER-SALTMARSHES-2021",
          "NCC-ST-JOHN-RIVER-SALTMARSHES-2021",
          "NCC-ST-JOHN-RIVER-SALTMARSHES-2021",
          "NCC-ST-JOHN-RIVER-SALTMARSHES-2021",
          "NCC-ST-JOHN-RIVER-SALTMARSHES-2021",
          "NCC-ST-JOHN-RIVER-SALTMARSHES-2021",
          "NCC-ST-JOHN-RIVER-SALTMARSHES-2021",
          "NCC-ST-JOHN-RIVER-SALTMARSHES-2021",
          "NCC-ST-JOHN-RIVER-SALTMARSHES-2021",
          "NCC-ST-JOHN-RIVER-SALTMARSHES-2021",
          "NCC-ST-JOHN-RIVER-SALTMARSHES-2021",
          "NCC-ST-JOHN-RIVER-SALTMARSHES-2021",
          "NCC-ST-JOHN-RIVER-SALTMARSHES-2021",
          "NCC-ST-JOHN-RIVER-SALTMARSHES-2021",
          "NCC-ST-JOHN-RIVER-SALTMARSHES-2021",
          "NCC-ST-JOHN-RIVER-SALTMARSHES-2021",
          "NCC-ST-JOHN-RIVER-SALTMARSHES-2021",
          "NCC-ST-JOHN-RIVER-SALTMARSHES-2021",
          "NCC-ST-JOHN-RIVER-SALTMARSHES-2021",
          "NCC-ST-JOHN-RIVER-SALTMARSHES-2021",
          "NCC-ST-JOHN-RIVER-SALTMARSHES-2021",
          "NCC-ST-JOHN-RIVER-SALTMARSHES-2021",
          "NCC-ST-JOHN-RIVER-SALTMARSHES-2021",
          "NCC-ST-JOHN-RIVER-SALTMARSHES-2021",
          "NCC-ST-JOHN-RIVER-SALTMARSHES-2021",
          "NCC-ST-JOHN-RIVER-SALTMARSHES-2021",
          "NCC-ST-JOHN-RIVER-SALTMARSHES-2021",
          "NCC-ST-JOHN-RIVER-SALTMARSHES-2021",
          "NCC-ST-JOHN-RIVER-SALTMARSHES-2021",
          "NCC-ST-JOHN-RIVER-SALTMARSHES-2021",
          "NCC-ST-JOHN-RIVER-SALTMARSHES-2021",
          "NCC-ST-JOHN-RIVER-SALTMARSHES-2021",
          "NCC-ST-JOHN-RIVER-SALTMARSHES-2021",
          "NCC-ST-JOHN-RIVER-SALTMARSHES-2021",
          "NCC-ST-JOHN-RIVER-SALTMARSHES-2021",
          "NCC-ST-JOHN-RIVER-SALTMARSHES-2021",
          "NCC-ST-JOHN-RIVER-SALTMARSHES-2021",
          "NCC-ST-JOHN-RIVER-SALTMARSHES-2021",
          "NCC-ST-JOHN-RIVER-SALTMARSHES-2021",
          "NCC-ST-JOHN-RIVER-SALTMARSHES-2021",
          "NCC-ST-JOHN-RIVER-SALTMARSHES-2021",
          "NCC-ST-JOHN-RIVER-SALTMARSHES-2021",
          "NCC-ST-JOHN-RIVER-SALTMARSHES-2021",
          "NCC-ST-JOHN-RIVER-SALTMARSHES-2021",
          "NCC-ST-JOHN-RIVER-SALTMARSHES-2021",
          "NCC-ST-JOHN-RIVER-SALTMARSHES-2021",
          "NCC-ST-JOHN-RIVER-SALTMARSHES-2021",
          "NCC-ST-JOHN-RIVER-SALTMARSHES-2021",
          "NCC-ST-JOHN-RIVER-SALTMARSHES-2021",
          "NCC-ST-JOHN-RIVER-SALTMARSHES-2021",
          "NCC-ST-JOHN-RIVER-SALTMARSHES-2021",
          "NCC-ST-JOHN-RIVER-SALTMARSHES-2021",
          "NCC-ST-JOHN-RIVER-SALTMARSHES-2021",
          "NCC-ST-JOHN-RIVER-SALTMARSHES-2021",
          "NCC-ST-JOHN-RIVER-SALTMARSHES-2021",
          "NCC-ST-JOHN-RIVER-SALTMARSHES-2021",
          "NCC-ST-JOHN-RIVER-SALTMARSHES-2021",
          "NCC-ST-JOHN-RIVER-SALTMARSHES-2021",
          "NCC-ST-JOHN-RIVER-SALTMARSHES-2021",
          "NCC-ST-JOHN-RIVER-SALTMARSHES-2021",
          "NCC-ST-JOHN-RIVER-SALTMARSHES-2021",
          "NCC-ST-JOHN-RIVER-SALTMARSHES-2021",
          "NCC-ST-JOHN-RIVER-SALTMARSHES-2021",
          "NCC-ST-JOHN-RIVER-SALTMARSHES-2021",
          "NCC-ST-JOHN-RIVER-SALTMARSHES-2021",
          "NCC-ST-JOHN-RIVER-SALTMARSHES-2021",
          "NCC-ST-JOHN-RIVER-SALTMARSHES-2021",
          "NCC-ST-JOHN-RIVER-SALTMARSHES-2021",
          "NCC-ST-JOHN-RIVER-SALTMARSHES-2021",
          "NCC-ST-JOHN-RIVER-SALTMARSHES-2021",
          "NCC-ST-JOHN-RIVER-SALTMARSHES-2021",
          "NCC-ST-JOHN-RIVER-SALTMARSHES-2021",
          "NCC-ST-JOHN-RIVER-SALTMARSHES-2021",
          "NCC-ST-JOHN-RIVER-SALTMARSHES-2021",
          "NCC-ST-JOHN-RIVER-SALTMARSHES-2021",
          "NCC-ST-JOHN-RIVER-SALTMARSHES-2021",
          "NCC-ST-JOHN-RIVER-SALTMARSHES-2021",
          "NCC-ST-JOHN-RIVER-SALTMARSHES-2021",
          "NCC-ST-JOHN-RIVER-SALTMARSHES-2021",
          "NCC-ST-JOHN-RIVER-SALTMARSHES-2021",
          "NCC-ST-JOHN-RIVER-SALTMARSHES-2021",
          "NCC-ST-JOHN-RIVER-SALTMARSHES-2021",
          "NCC-ST-JOHN-RIVER-SALTMARSHES-2021",
          "NCC-ST-JOHN-RIVER-SALTMARSHES-2021",
          "NCC-ST-JOHN-RIVER-SALTMARSHES-2021",
          "NCC-ST-JOHN-RIVER-SALTMARSHES-2021",
          "NCC-ST-JOHN-RIVER-SALTMARSHES-2021",
          "NCC-ST-JOHN-RIVER-SALTMARSHES-2021",
          "NCC-ST-JOHN-RIVER-SALTMARSHES-2021",
          "NCC-ST-JOHN-RIVER-SALTMARSHES-2021",
          "NCC-ST-JOHN-RIVER-SALTMARSHES-2021",
          "NCC-ST-JOHN-RIVER-SALTMARSHES-2021",
          "NCC-ST-JOHN-RIVER-SALTMARSHES-2021",
          "NCC-ST-JOHN-RIVER-SALTMARSHES-2021",
          "NCC-ST-JOHN-RIVER-SALTMARSHES-2021",
          "NCC-ST-JOHN-RIVER-SALTMARSHES-2021",
          "NCC-ST-JOHN-RIVER-SALTMARSHES-2021",
          "NCC-ST-JOHN-RIVER-SALTMARSHES-2021",
          "NCC-ST-JOHN-RIVER-SALTMARSHES-2021",
          "NCC-ST-JOHN-RIVER-SALTMARSHES-2021",
          "NCC-ST-JOHN-RIVER-SALTMARSHES-2021",
          "NCC-ST-JOHN-RIVER-SALTMARSHES-2021",
          "NCC-ST-JOHN-RIVER-SALTMARSHES-2021",
          "NCC-ST-JOHN-RIVER-SALTMARSHES-2021",
          "NCC-ST-JOHN-RIVER-SALTMARSHES-2021",
          "NCC-ST-JOHN-RIVER-SALTMARSHES-2021",
          "NCC-ST-JOHN-RIVER-SALTMARSHES-2021",
          "NCC-ST-JOHN-RIVER-SALTMARSHES-2021",
          "NCC-ST-JOHN-RIVER-SALTMARSHES-2021",
          "NCC-ST-JOHN-RIVER-SALTMARSHES-2021",
          "NCC-ST-JOHN-RIVER-SALTMARSHES-2021",
          "NCC-ST-JOHN-RIVER-SALTMARSHES-2021",
          "NCC-ST-JOHN-RIVER-SALTMARSHES-2021",
          "NCC-ST-JOHN-RIVER-SALTMARSHES-2021",
          "NCC-ST-JOHN-RIVER-SALTMARSHES-2021",
          "NCC-ST-JOHN-RIVER-SALTMARSHES-2021",
          "NCC-ST-JOHN-RIVER-SALTMARSHES-2021",
          "NCC-ST-JOHN-RIVER-SALTMARSHES-2021",
          "NCC-ST-JOHN-RIVER-SALTMARSHES-2021",
          "NCC-ST-JOHN-RIVER-SALTMARSHES-2021",
          "NCC-ST-JOHN-RIVER-SALTMARSHES-2021",
          "NCC-ST-JOHN-RIVER-SALTMARSHES-2021",
          "NCC-ST-JOHN-RIVER-SALTMARSHES-2021",
          "NCC-ST-JOHN-RIVER-SALTMARSHES-2021",
          "NCC-ST-JOHN-RIVER-SALTMARSHES-2021",
          "NCC-ST-JOHN-RIVER-SALTMARSHES-2021",
          "NCC-ST-JOHN-RIVER-SALTMARSHES-2021",
          "NCC-ST-JOHN-RIVER-SALTMARSHES-2021",
          "NCC-ST-JOHN-RIVER-SALTMARSHES-2021",
          "NCC-ST-JOHN-RIVER-SALTMARSHES-2021",
          "NCC-ST-JOHN-RIVER-SALTMARSHES-2021",
          "NCC-ST-JOHN-RIVER-SALTMARSHES-2021",
          "NCC-ST-JOHN-RIVER-SALTMARSHES-2021",
          "NCC-ST-JOHN-RIVER-SALTMARSHES-2021",
          "NCC-ST-JOHN-RIVER-SALTMARSHES-2021",
          "NCC-ST-JOHN-RIVER-SALTMARSHES-2021",
          "NCC-ST-JOHN-RIVER-SALTMARSHES-2021",
          "NCC-ST-JOHN-RIVER-SALTMARSHES-2021",
          "NCC-ST-JOHN-RIVER-SALTMARSHES-2021",
          "NCC-ST-JOHN-RIVER-SALTMARSHES-2021",
          "NCC-ST-JOHN-RIVER-SALTMARSHES-2021",
          "NCC-ST-JOHN-RIVER-SALTMARSHES-2021",
          "NCC-ST-JOHN-RIVER-SALTMARSHES-2021",
          "NCC-ST-JOHN-RIVER-SALTMARSHES-2021",
          "NCC-ST-JOHN-RIVER-SALTMARSHES-2021",
          "NCC-ST-JOHN-RIVER-SALTMARSHES-2021",
          "NCC-ST-JOHN-RIVER-SALTMARSHES-2021",
          "NCC-ST-JOHN-RIVER-SALTMARSHES-2021",
          "NCC-ST-JOHN-RIVER-SALTMARSHES-2021",
          "NCC-ST-JOHN-RIVER-SALTMARSHES-2021",
          "NCC-ST-JOHN-RIVER-SALTMARSHES-2021",
          "NCC-ST-JOHN-RIVER-SALTMARSHES-2021",
          "NCC-ST-JOHN-RIVER-SALTMARSHES-2021",
          "NCC-ST-JOHN-RIVER-SALTMARSHES-2021",
          "NCC-ST-JOHN-RIVER-SALTMARSHES-2021",
          "NCC-ST-JOHN-RIVER-SALTMARSHES-2021",
          "NCC-ST-JOHN-RIVER-SALTMARSHES-2021",
          "NCC-ST-JOHN-RIVER-SALTMARSHES-2021",
          "NCC-ST-JOHN-RIVER-SALTMARSHES-2021",
          "NCC-ST-JOHN-RIVER-SALTMARSHES-2021",
          "NCC-ST-JOHN-RIVER-SALTMARSHES-2021",
          "NCC-ST-JOHN-RIVER-SALTMARSHES-2021",
          "NCC-ST-JOHN-RIVER-SALTMARSHES-2021",
          "NCC-ST-JOHN-RIVER-SALTMARSHES-2021",
          "NCC-ST-JOHN-RIVER-SALTMARSHES-2021",
          "NCC-ST-JOHN-RIVER-SALTMARSHES-2021",
          "NCC-ST-JOHN-RIVER-SALTMARSHES-2021",
          "NCC-ST-JOHN-RIVER-SALTMARSHES-2021",
          "NCC-ST-JOHN-RIVER-SALTMARSHES-2021",
          "NCC-ST-JOHN-RIVER-SALTMARSHES-2021",
          "NCC-ST-JOHN-RIVER-SALTMARSHES-2021",
          "NCC-ST-JOHN-RIVER-SALTMARSHES-2021",
          "NCC-ST-JOHN-RIVER-SALTMARSHES-2021",
          "NCC-ST-JOHN-RIVER-SALTMARSHES-2021",
          "NCC-ST-JOHN-RIVER-SALTMARSHES-2021",
          "NCC-ST-JOHN-RIVER-SALTMARSHES-2021",
          "NCC-ST-JOHN-RIVER-SALTMARSHES-2021",
          "NCC-ST-JOHN-RIVER-SALTMARSHES-2021",
          "NCC-ST-JOHN-RIVER-SALTMARSHES-2021",
          "NCC-ST-JOHN-RIVER-SALTMARSHES-2021",
          "NCC-ST-JOHN-RIVER-SALTMARSHES-2021",
          "NCC-ST-JOHN-RIVER-SALTMARSHES-2021",
          "NCC-ST-JOHN-RIVER-SALTMARSHES-2021",
          "NCC-ST-JOHN-RIVER-SALTMARSHES-2021",
          "NCC-ST-JOHN-RIVER-SALTMARSHES-2021",
          "NCC-ST-JOHN-RIVER-SALTMARSHES-2021",
          "NCC-ST-JOHN-RIVER-SALTMARSHES-2021",
          "NCC-ST-JOHN-RIVER-SALTMARSHES-2021",
          "NCC-ST-JOHN-RIVER-SALTMARSHES-2021",
          "NCC-ST-JOHN-RIVER-SALTMARSHES-2021",
          "NCC-ST-JOHN-RIVER-SALTMARSHES-2021",
          "NCC-ST-JOHN-RIVER-SALTMARSHES-2021",
          "NCC-ST-JOHN-RIVER-SALTMARSHES-2021",
          "NCC-ST-JOHN-RIVER-SALTMARSHES-2021",
          "NCC-ST-JOHN-RIVER-SALTMARSHES-2021",
          "NCC-ST-JOHN-RIVER-SALTMARSHES-2021",
          "NCC-ST-JOHN-RIVER-SALTMARSHES-2021",
          "NCC-ST-JOHN-RIVER-SALTMARSHES-2021",
          "NCC-ST-JOHN-RIVER-SALTMARSHES-2021",
          "NCC-ST-JOHN-RIVER-SALTMARSHES-2021",
          "NCC-ST-JOHN-RIVER-SALTMARSHES-2021",
          "NCC-ST-JOHN-RIVER-SALTMARSHES-2021",
          "NCC-ST-JOHN-RIVER-SALTMARSHES-2021",
          "NCC-ST-JOHN-RIVER-SALTMARSHES-2021",
          "NCC-ST-JOHN-RIVER-SALTMARSHES-2021",
          "NCC-ST-JOHN-RIVER-SALTMARSHES-2021",
          "NCC-ST-JOHN-RIVER-SALTMARSHES-2021"
         ],
         "type": "scattermapbox"
        }
       ],
       "layout": {
        "mapbox": {
         "center": {
          "lat": 45.27645278,
          "lon": -66.13394166500001
         },
         "style": "open-street-map",
         "zoom": 11.681980998922137
        },
        "margin": {
         "b": 0,
         "l": 0,
         "r": 0,
         "t": 0
        },
        "showlegend": false,
        "template": {
         "data": {
          "bar": [
           {
            "error_x": {
             "color": "#2a3f5f"
            },
            "error_y": {
             "color": "#2a3f5f"
            },
            "marker": {
             "line": {
              "color": "#E5ECF6",
              "width": 0.5
             },
             "pattern": {
              "fillmode": "overlay",
              "size": 10,
              "solidity": 0.2
             }
            },
            "type": "bar"
           }
          ],
          "barpolar": [
           {
            "marker": {
             "line": {
              "color": "#E5ECF6",
              "width": 0.5
             },
             "pattern": {
              "fillmode": "overlay",
              "size": 10,
              "solidity": 0.2
             }
            },
            "type": "barpolar"
           }
          ],
          "carpet": [
           {
            "aaxis": {
             "endlinecolor": "#2a3f5f",
             "gridcolor": "white",
             "linecolor": "white",
             "minorgridcolor": "white",
             "startlinecolor": "#2a3f5f"
            },
            "baxis": {
             "endlinecolor": "#2a3f5f",
             "gridcolor": "white",
             "linecolor": "white",
             "minorgridcolor": "white",
             "startlinecolor": "#2a3f5f"
            },
            "type": "carpet"
           }
          ],
          "choropleth": [
           {
            "colorbar": {
             "outlinewidth": 0,
             "ticks": ""
            },
            "type": "choropleth"
           }
          ],
          "contour": [
           {
            "colorbar": {
             "outlinewidth": 0,
             "ticks": ""
            },
            "colorscale": [
             [
              0,
              "#0d0887"
             ],
             [
              0.1111111111111111,
              "#46039f"
             ],
             [
              0.2222222222222222,
              "#7201a8"
             ],
             [
              0.3333333333333333,
              "#9c179e"
             ],
             [
              0.4444444444444444,
              "#bd3786"
             ],
             [
              0.5555555555555556,
              "#d8576b"
             ],
             [
              0.6666666666666666,
              "#ed7953"
             ],
             [
              0.7777777777777778,
              "#fb9f3a"
             ],
             [
              0.8888888888888888,
              "#fdca26"
             ],
             [
              1,
              "#f0f921"
             ]
            ],
            "type": "contour"
           }
          ],
          "contourcarpet": [
           {
            "colorbar": {
             "outlinewidth": 0,
             "ticks": ""
            },
            "type": "contourcarpet"
           }
          ],
          "heatmap": [
           {
            "colorbar": {
             "outlinewidth": 0,
             "ticks": ""
            },
            "colorscale": [
             [
              0,
              "#0d0887"
             ],
             [
              0.1111111111111111,
              "#46039f"
             ],
             [
              0.2222222222222222,
              "#7201a8"
             ],
             [
              0.3333333333333333,
              "#9c179e"
             ],
             [
              0.4444444444444444,
              "#bd3786"
             ],
             [
              0.5555555555555556,
              "#d8576b"
             ],
             [
              0.6666666666666666,
              "#ed7953"
             ],
             [
              0.7777777777777778,
              "#fb9f3a"
             ],
             [
              0.8888888888888888,
              "#fdca26"
             ],
             [
              1,
              "#f0f921"
             ]
            ],
            "type": "heatmap"
           }
          ],
          "heatmapgl": [
           {
            "colorbar": {
             "outlinewidth": 0,
             "ticks": ""
            },
            "colorscale": [
             [
              0,
              "#0d0887"
             ],
             [
              0.1111111111111111,
              "#46039f"
             ],
             [
              0.2222222222222222,
              "#7201a8"
             ],
             [
              0.3333333333333333,
              "#9c179e"
             ],
             [
              0.4444444444444444,
              "#bd3786"
             ],
             [
              0.5555555555555556,
              "#d8576b"
             ],
             [
              0.6666666666666666,
              "#ed7953"
             ],
             [
              0.7777777777777778,
              "#fb9f3a"
             ],
             [
              0.8888888888888888,
              "#fdca26"
             ],
             [
              1,
              "#f0f921"
             ]
            ],
            "type": "heatmapgl"
           }
          ],
          "histogram": [
           {
            "marker": {
             "pattern": {
              "fillmode": "overlay",
              "size": 10,
              "solidity": 0.2
             }
            },
            "type": "histogram"
           }
          ],
          "histogram2d": [
           {
            "colorbar": {
             "outlinewidth": 0,
             "ticks": ""
            },
            "colorscale": [
             [
              0,
              "#0d0887"
             ],
             [
              0.1111111111111111,
              "#46039f"
             ],
             [
              0.2222222222222222,
              "#7201a8"
             ],
             [
              0.3333333333333333,
              "#9c179e"
             ],
             [
              0.4444444444444444,
              "#bd3786"
             ],
             [
              0.5555555555555556,
              "#d8576b"
             ],
             [
              0.6666666666666666,
              "#ed7953"
             ],
             [
              0.7777777777777778,
              "#fb9f3a"
             ],
             [
              0.8888888888888888,
              "#fdca26"
             ],
             [
              1,
              "#f0f921"
             ]
            ],
            "type": "histogram2d"
           }
          ],
          "histogram2dcontour": [
           {
            "colorbar": {
             "outlinewidth": 0,
             "ticks": ""
            },
            "colorscale": [
             [
              0,
              "#0d0887"
             ],
             [
              0.1111111111111111,
              "#46039f"
             ],
             [
              0.2222222222222222,
              "#7201a8"
             ],
             [
              0.3333333333333333,
              "#9c179e"
             ],
             [
              0.4444444444444444,
              "#bd3786"
             ],
             [
              0.5555555555555556,
              "#d8576b"
             ],
             [
              0.6666666666666666,
              "#ed7953"
             ],
             [
              0.7777777777777778,
              "#fb9f3a"
             ],
             [
              0.8888888888888888,
              "#fdca26"
             ],
             [
              1,
              "#f0f921"
             ]
            ],
            "type": "histogram2dcontour"
           }
          ],
          "mesh3d": [
           {
            "colorbar": {
             "outlinewidth": 0,
             "ticks": ""
            },
            "type": "mesh3d"
           }
          ],
          "parcoords": [
           {
            "line": {
             "colorbar": {
              "outlinewidth": 0,
              "ticks": ""
             }
            },
            "type": "parcoords"
           }
          ],
          "pie": [
           {
            "automargin": true,
            "type": "pie"
           }
          ],
          "scatter": [
           {
            "fillpattern": {
             "fillmode": "overlay",
             "size": 10,
             "solidity": 0.2
            },
            "type": "scatter"
           }
          ],
          "scatter3d": [
           {
            "line": {
             "colorbar": {
              "outlinewidth": 0,
              "ticks": ""
             }
            },
            "marker": {
             "colorbar": {
              "outlinewidth": 0,
              "ticks": ""
             }
            },
            "type": "scatter3d"
           }
          ],
          "scattercarpet": [
           {
            "marker": {
             "colorbar": {
              "outlinewidth": 0,
              "ticks": ""
             }
            },
            "type": "scattercarpet"
           }
          ],
          "scattergeo": [
           {
            "marker": {
             "colorbar": {
              "outlinewidth": 0,
              "ticks": ""
             }
            },
            "type": "scattergeo"
           }
          ],
          "scattergl": [
           {
            "marker": {
             "colorbar": {
              "outlinewidth": 0,
              "ticks": ""
             }
            },
            "type": "scattergl"
           }
          ],
          "scattermapbox": [
           {
            "marker": {
             "colorbar": {
              "outlinewidth": 0,
              "ticks": ""
             }
            },
            "type": "scattermapbox"
           }
          ],
          "scatterpolar": [
           {
            "marker": {
             "colorbar": {
              "outlinewidth": 0,
              "ticks": ""
             }
            },
            "type": "scatterpolar"
           }
          ],
          "scatterpolargl": [
           {
            "marker": {
             "colorbar": {
              "outlinewidth": 0,
              "ticks": ""
             }
            },
            "type": "scatterpolargl"
           }
          ],
          "scatterternary": [
           {
            "marker": {
             "colorbar": {
              "outlinewidth": 0,
              "ticks": ""
             }
            },
            "type": "scatterternary"
           }
          ],
          "surface": [
           {
            "colorbar": {
             "outlinewidth": 0,
             "ticks": ""
            },
            "colorscale": [
             [
              0,
              "#0d0887"
             ],
             [
              0.1111111111111111,
              "#46039f"
             ],
             [
              0.2222222222222222,
              "#7201a8"
             ],
             [
              0.3333333333333333,
              "#9c179e"
             ],
             [
              0.4444444444444444,
              "#bd3786"
             ],
             [
              0.5555555555555556,
              "#d8576b"
             ],
             [
              0.6666666666666666,
              "#ed7953"
             ],
             [
              0.7777777777777778,
              "#fb9f3a"
             ],
             [
              0.8888888888888888,
              "#fdca26"
             ],
             [
              1,
              "#f0f921"
             ]
            ],
            "type": "surface"
           }
          ],
          "table": [
           {
            "cells": {
             "fill": {
              "color": "#EBF0F8"
             },
             "line": {
              "color": "white"
             }
            },
            "header": {
             "fill": {
              "color": "#C8D4E3"
             },
             "line": {
              "color": "white"
             }
            },
            "type": "table"
           }
          ]
         },
         "layout": {
          "annotationdefaults": {
           "arrowcolor": "#2a3f5f",
           "arrowhead": 0,
           "arrowwidth": 1
          },
          "autotypenumbers": "strict",
          "coloraxis": {
           "colorbar": {
            "outlinewidth": 0,
            "ticks": ""
           }
          },
          "colorscale": {
           "diverging": [
            [
             0,
             "#8e0152"
            ],
            [
             0.1,
             "#c51b7d"
            ],
            [
             0.2,
             "#de77ae"
            ],
            [
             0.3,
             "#f1b6da"
            ],
            [
             0.4,
             "#fde0ef"
            ],
            [
             0.5,
             "#f7f7f7"
            ],
            [
             0.6,
             "#e6f5d0"
            ],
            [
             0.7,
             "#b8e186"
            ],
            [
             0.8,
             "#7fbc41"
            ],
            [
             0.9,
             "#4d9221"
            ],
            [
             1,
             "#276419"
            ]
           ],
           "sequential": [
            [
             0,
             "#0d0887"
            ],
            [
             0.1111111111111111,
             "#46039f"
            ],
            [
             0.2222222222222222,
             "#7201a8"
            ],
            [
             0.3333333333333333,
             "#9c179e"
            ],
            [
             0.4444444444444444,
             "#bd3786"
            ],
            [
             0.5555555555555556,
             "#d8576b"
            ],
            [
             0.6666666666666666,
             "#ed7953"
            ],
            [
             0.7777777777777778,
             "#fb9f3a"
            ],
            [
             0.8888888888888888,
             "#fdca26"
            ],
            [
             1,
             "#f0f921"
            ]
           ],
           "sequentialminus": [
            [
             0,
             "#0d0887"
            ],
            [
             0.1111111111111111,
             "#46039f"
            ],
            [
             0.2222222222222222,
             "#7201a8"
            ],
            [
             0.3333333333333333,
             "#9c179e"
            ],
            [
             0.4444444444444444,
             "#bd3786"
            ],
            [
             0.5555555555555556,
             "#d8576b"
            ],
            [
             0.6666666666666666,
             "#ed7953"
            ],
            [
             0.7777777777777778,
             "#fb9f3a"
            ],
            [
             0.8888888888888888,
             "#fdca26"
            ],
            [
             1,
             "#f0f921"
            ]
           ]
          },
          "colorway": [
           "#636efa",
           "#EF553B",
           "#00cc96",
           "#ab63fa",
           "#FFA15A",
           "#19d3f3",
           "#FF6692",
           "#B6E880",
           "#FF97FF",
           "#FECB52"
          ],
          "font": {
           "color": "#2a3f5f"
          },
          "geo": {
           "bgcolor": "white",
           "lakecolor": "white",
           "landcolor": "#E5ECF6",
           "showlakes": true,
           "showland": true,
           "subunitcolor": "white"
          },
          "hoverlabel": {
           "align": "left"
          },
          "hovermode": "closest",
          "mapbox": {
           "style": "light"
          },
          "paper_bgcolor": "white",
          "plot_bgcolor": "#E5ECF6",
          "polar": {
           "angularaxis": {
            "gridcolor": "white",
            "linecolor": "white",
            "ticks": ""
           },
           "bgcolor": "#E5ECF6",
           "radialaxis": {
            "gridcolor": "white",
            "linecolor": "white",
            "ticks": ""
           }
          },
          "scene": {
           "xaxis": {
            "backgroundcolor": "#E5ECF6",
            "gridcolor": "white",
            "gridwidth": 2,
            "linecolor": "white",
            "showbackground": true,
            "ticks": "",
            "zerolinecolor": "white"
           },
           "yaxis": {
            "backgroundcolor": "#E5ECF6",
            "gridcolor": "white",
            "gridwidth": 2,
            "linecolor": "white",
            "showbackground": true,
            "ticks": "",
            "zerolinecolor": "white"
           },
           "zaxis": {
            "backgroundcolor": "#E5ECF6",
            "gridcolor": "white",
            "gridwidth": 2,
            "linecolor": "white",
            "showbackground": true,
            "ticks": "",
            "zerolinecolor": "white"
           }
          },
          "shapedefaults": {
           "line": {
            "color": "#2a3f5f"
           }
          },
          "ternary": {
           "aaxis": {
            "gridcolor": "white",
            "linecolor": "white",
            "ticks": ""
           },
           "baxis": {
            "gridcolor": "white",
            "linecolor": "white",
            "ticks": ""
           },
           "bgcolor": "#E5ECF6",
           "caxis": {
            "gridcolor": "white",
            "linecolor": "white",
            "ticks": ""
           }
          },
          "title": {
           "x": 0.05
          },
          "xaxis": {
           "automargin": true,
           "gridcolor": "white",
           "linecolor": "white",
           "ticks": "",
           "title": {
            "standoff": 15
           },
           "zerolinecolor": "white",
           "zerolinewidth": 2
          },
          "yaxis": {
           "automargin": true,
           "gridcolor": "white",
           "linecolor": "white",
           "ticks": "",
           "title": {
            "standoff": 15
           },
           "zerolinecolor": "white",
           "zerolinewidth": 2
          }
         }
        }
       }
      }
     },
     "metadata": {},
     "output_type": "display_data"
    }
   ],
   "source": [
    "data = occurrence_core\n",
    "colonne1 = 'decimallatitude'\n",
    "colonne2 = 'decimallongitude'\n",
    "colonne3 = 'datasetid'\n",
    "\n",
    "\n",
    "data1 = data.rename(columns=str.lower)\n",
    "\n",
    "# finds latitudes values NOT between -90 & 90 degrees and longitudes values NOT between -180 & 180 degrees\n",
    "latitudes_non_valides = data1.loc[(data1[colonne1].gt(90)) | (data1[colonne1].lt(-90)) ]\n",
    "longitudes_non_valides = (data1.loc[(data1[colonne2].gt(180)) | (data1[colonne2].lt(-180))]) \n",
    "frames = [latitudes_non_valides, longitudes_non_valides]\n",
    "coordonees_non_valides = pd.concat(frames)\n",
    "\n",
    "# we get rid of duplicated values\n",
    "latitude_colonne  =  coordonees_non_valides.columns.get_loc(colonne1)\n",
    "longitude_colonne =  coordonees_non_valides.columns.get_loc(colonne2)\n",
    "coordonees_non_valides = coordonees_non_valides.iloc[:,[0,latitude_colonne, longitude_colonne]]\n",
    "coordonees_non_valides.drop_duplicates(inplace=True)\n",
    "\n",
    "\n",
    "# finds latitudes values between -90 & 90 degrees and longitudes values between -180 & 180 degrees \n",
    "coordonnees_valides = data1[data1[colonne1].between(-90,90) & data1[colonne2].between(-180,180)]\n",
    "\n",
    "\n",
    "# show map\n",
    "centre_long =.5*(max(np.asarray(np.float64(coordonnees_valides[colonne2]).tolist())) + min(np.asarray(np.float64(coordonnees_valides[colonne2]).tolist())))\n",
    "centre_lat = .5*(max(np.asarray(np.float64(coordonnees_valides[colonne1]).tolist())) + min(np.asarray(np.float64(coordonnees_valides[colonne1]).tolist())))\n",
    "height = max(np.asarray(np.float64(coordonnees_valides[colonne1]).tolist())) - min(np.asarray(np.float64(coordonnees_valides[colonne1]).tolist()))\n",
    "width = max(np.asarray(np.float64(coordonnees_valides[colonne2]).tolist())) -  min(np.asarray(np.float64(coordonnees_valides[colonne2]).tolist()))\n",
    "area = height * width\n",
    "\n",
    "\n",
    "zoom = np.interp(x=area,\n",
    "                xp=[0.0005,   .02,   .05,  30,  350,   3500],\n",
    "                fp=[12,        9.5,    6,     4,   2,     1])\n",
    "print('centre lat: ', centre_lat) \n",
    "print('centre lon: ', centre_long) \n",
    "print('area: ', area)\n",
    "print('zoom : ', zoom)\n",
    "\n",
    "fig = go.Figure(go.Scattermapbox(\n",
    "    lon = np.asarray(np.float64(coordonnees_valides[colonne2]).tolist()), lat = np.asarray(np.float64(coordonnees_valides[colonne1]).tolist()),\n",
    "        mode='markers', \n",
    "        marker = { 'size': 7, 'color': \"rgb(16, 40, 54)\", 'opacity': 0.8 },\n",
    "        text=coordonnees_valides[colonne3]))\n",
    "\n",
    "fig.update_layout(\n",
    "            mapbox = {'style': \"open-street-map\", \n",
    "                'center': {'lon': centre_long, 'lat': centre_lat},\n",
    "                'zoom': zoom\n",
    "            },\n",
    "            showlegend = False,\n",
    "            margin = {'l':0, 'r':0, 'b':0, 't':0}, \n",
    "            )\n",
    "\n",
    "fig.show()"
   ]
  },
  {
   "cell_type": "code",
   "execution_count": null,
   "metadata": {},
   "outputs": [],
   "source": []
  }
 ],
 "metadata": {
  "kernelspec": {
   "display_name": "Python 3.7.11 ('env')",
   "language": "python",
   "name": "python3"
  },
  "language_info": {
   "codemirror_mode": {
    "name": "ipython",
    "version": 3
   },
   "file_extension": ".py",
   "mimetype": "text/x-python",
   "name": "python",
   "nbconvert_exporter": "python",
   "pygments_lexer": "ipython3",
   "version": "3.7.11"
  },
  "orig_nbformat": 4,
  "vscode": {
   "interpreter": {
    "hash": "de1b4a5795d1b157f1a3a747f4b184c443b0b16db4b4de4936f732d4a39e9b96"
   }
  }
 },
 "nbformat": 4,
 "nbformat_minor": 2
}
